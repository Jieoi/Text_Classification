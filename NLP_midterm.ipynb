{
 "cells": [
  {
   "cell_type": "markdown",
   "id": "04aefc8d",
   "metadata": {},
   "source": [
    "<center>\n",
    "    <b><h1> Couserwork Assignment: Text Classification</h1></b>\n",
    "</center>"
   ]
  },
  {
   "cell_type": "markdown",
   "id": "d4d3c79a",
   "metadata": {},
   "source": [
    "<center>\n",
    "    <h3>University of London</h3>\n",
    "</center>"
   ]
  },
  {
   "cell_type": "markdown",
   "id": "4850a4fc",
   "metadata": {},
   "source": [
    "<center>\n",
    "    <h3>BSc in Computer Science</h3>\n",
    "</center>"
   ]
  },
  {
   "cell_type": "markdown",
   "id": "41c3cb96",
   "metadata": {},
   "source": [
    "<center>\n",
    "    <h3>Natural Language Processing</h3>\n",
    "</center>"
   ]
  },
  {
   "cell_type": "markdown",
   "id": "c2fbe0bc",
   "metadata": {},
   "source": [
    "<div style=\"page-break-after: always;\"></div>"
   ]
  },
  {
   "cell_type": "markdown",
   "id": "36069138",
   "metadata": {},
   "source": [
    "<h1> Table of Content</h1>"
   ]
  },
  {
   "cell_type": "markdown",
   "id": "04b0acbe",
   "metadata": {},
   "source": [
    "<style>\n",
    "ul {\n",
    "    font-size: 20px;\n",
    "}\n",
    "\n",
    "ul ul {\n",
    "    font-size: 15px;\n",
    "}\n",
    "</style>\n",
    "\n",
    "<ul>\n",
    "    <li>\n",
    "        <a href=\"#intro\">1. Introduction</a>\n",
    "        <ul>\n",
    "            <li><a href=\"#1.1\">1.1 Problem Area</a></li>\n",
    "            <li><a href=\"#1.2\">1.2 Objectives</a></li>\n",
    "            <li><a href=\"#1.3\">1.3 Choice of Dataset</a></li>\n",
    "        </ul>\n",
    "    </li>\n",
    "    <li>\n",
    "        <a href=\"#implementation\">2. Implementation</a>\n",
    "        <ul>\n",
    "            <li><a href=\"#2.1\">2.1 Processing</a></li>\n",
    "            <ul>\n",
    "                <li><a href=\"#2.1.1\">2.1.1 Data Extraction and Cleaning</a></li>\n",
    "                <li><a href=\"#2.1.2\">2.2.2 Prelimary Data Exploration and Data Cleaning</a></li>\n",
    "                <li><a href=\"#2.1.3\">2.3.3 Vocabulary statistic</a></li>\n",
    "            </ul>\n",
    "            <li><a href=\"#2.2\">2.2 Baseline performance</a></li>\n",
    "        </ul>\n",
    "    </li>\n",
    "    <li>\n",
    "        <a href=\"#Conc\">3. Conclusion</a>\n",
    "        <ul>\n",
    "            <li><a href=\"#3.1\">3.1 Evaluation</a></li>\n",
    "            <li><a href=\"#3.2\">3.2 Project Evaluation and Summary</a></li>\n",
    "        </ul>\n",
    "    </li>\n",
    "</ul>\n"
   ]
  },
  {
   "cell_type": "markdown",
   "id": "e6f79f63",
   "metadata": {},
   "source": [
    "<div style=\"page-break-after: always;\"></div>"
   ]
  },
  {
   "cell_type": "markdown",
   "id": "b291f5f6",
   "metadata": {},
   "source": [
    "<h2 id=\"intro\">1. Introduction</h2>\n",
    "<h3 id=\"1.1\">1.1 Problem area</h3>"
   ]
  },
  {
   "cell_type": "markdown",
   "id": "a5d49b50",
   "metadata": {},
   "source": []
  },
  {
   "cell_type": "markdown",
   "id": "50738505",
   "metadata": {},
   "source": [
    "<h3 id=\"1.2\">1.2 Objectove</h3>"
   ]
  },
  {
   "cell_type": "markdown",
   "id": "04a7ac2c",
   "metadata": {},
   "source": []
  },
  {
   "cell_type": "markdown",
   "id": "cdf95f45",
   "metadata": {},
   "source": [
    "<h3 id=\"1.3\">1.3 Choice of Dataset</h3>"
   ]
  },
  {
   "cell_type": "markdown",
   "id": "78eefbb1",
   "metadata": {},
   "source": []
  },
  {
   "cell_type": "markdown",
   "id": "37d6128e",
   "metadata": {},
   "source": [
    "<h3 id=\"1.4\">1.4 Evaluation Methodology</h3>"
   ]
  },
  {
   "cell_type": "markdown",
   "id": "517229d2",
   "metadata": {},
   "source": []
  },
  {
   "cell_type": "markdown",
   "id": "4deb4a98",
   "metadata": {},
   "source": [
    "<h2 id=\"implementation\">2. Implementation</h2>\n",
    "<h3 id=\"2.1\">2.1 Processing</h3>\n",
    "<h3 id=\"2.1.1\">2.1.1 Data extraction</h3>"
   ]
  },
  {
   "cell_type": "markdown",
   "id": "183cf50c",
   "metadata": {},
   "source": [
    "Data will be extracted and stored locally. To extract the data required for the Natural Language Processing, some libraries were imported."
   ]
  },
  {
   "cell_type": "code",
   "execution_count": 1,
   "id": "660ef232",
   "metadata": {},
   "outputs": [],
   "source": [
    "# Import library needed for data analysis\n",
    "\n",
    "# os is used for handling the system\n",
    "import os\n",
    "\n",
    "# random for randomly selecting the data\n",
    "import random\n",
    "\n",
    "# pandas for storing and handling the data in data frame\n",
    "import pandas as pd\n",
    "\n",
    "# matplotlib for visualising the data\n",
    "import matplotlib.pyplot as plt\n",
    "\n",
    "# Regular expression handling\n",
    "import re\n",
    "\n",
    "# Numpy for calculation\n",
    "import numpy as np\n",
    "\n",
    "# NLTK for natural language processing\n",
    "import nltk\n",
    "from nltk.corpus import stopwords #stop words removal\n",
    "from nltk.stem import WordNetLemmatizer #replace words with similar meaning\n",
    "from nltk.tokenize import word_tokenize #tokenizing the string\n",
    "from nltk import ne_chunk\n",
    "from nltk.tree import Tree\n",
    "from nltk.collocations import BigramCollocationFinder #collation calculation\n",
    "from nltk.metrics import BigramAssocMeasures #collation calculation\n",
    "from nltk.probability import FreqDist #distribution calculation\n",
    "\n",
    "# RNN\n",
    "from tensorflow.keras.preprocessing.text import Tokenizer\n",
    "from tensorflow.keras.preprocessing.sequence import pad_sequences\n",
    "from tensorflow.keras.models import Sequential\n",
    "from tensorflow.keras.layers import Embedding, LSTM, Dropout, Dense\n",
    "\n",
    "# Navie Bayes\n",
    "from sklearn.feature_extraction.text import TfidfVectorizer\n",
    "from sklearn.naive_bayes import MultinomialNB\n",
    "\n",
    "# SVM\n",
    "from sklearn.model_selection import train_test_split\n",
    "from sklearn.svm import SVC\n",
    "\n",
    "# BoW\n",
    "from sklearn.feature_extraction.text import CountVectorizer\n",
    "from sklearn.linear_model import LogisticRegression\n",
    "\n",
    "# comparison\n",
    "from sklearn.feature_extraction.text import TfidfVectorizer\n",
    "from sklearn.metrics import accuracy_score, confusion_matrix, precision_score, recall_score, f1_score, mean_squared_error\n",
    "from sklearn.preprocessing import LabelEncoder\n",
    "\n",
    "# Bert\n",
    "import torch\n",
    "from transformers import BertTokenizer, BertForSequenceClassification\n",
    "from sklearn.metrics import accuracy_score, precision_score, recall_score, f1_score, confusion_matrix, mean_squared_error\n",
    "\n",
    "# wordcould display\n",
    "from wordcloud import WordCloud\n",
    "\n",
    "# spliting of data into test and train dataset\n",
    "from sklearn.model_selection import train_test_split"
   ]
  },
  {
   "cell_type": "markdown",
   "id": "02267cf9",
   "metadata": {},
   "source": [
    "The location of the data file is specified to extract the data"
   ]
  },
  {
   "cell_type": "code",
   "execution_count": 2,
   "id": "4a6e8796",
   "metadata": {},
   "outputs": [],
   "source": [
    "# Path to the folders\n",
    "pos_folder = r'C:\\Users\\xjie\\Documents\\SIM\\Y3S2\\nlp\\aclImdb\\train\\pos'\n",
    "neg_folder = r'C:\\Users\\xjie\\Documents\\SIM\\Y3S2\\nlp\\aclImdb\\train\\neg'"
   ]
  },
  {
   "cell_type": "markdown",
   "id": "0d0f5c3c",
   "metadata": {},
   "source": [
    "<b>Format of data:</b> As the data obtained is in the form of text document stored in positive and negative sentiment folder with each individual file name as the rating and the ID, a file counter is needed to check for the length of the data"
   ]
  },
  {
   "cell_type": "code",
   "execution_count": 3,
   "id": "c1a8a66f",
   "metadata": {},
   "outputs": [],
   "source": [
    "# Helper functions;\n",
    "\n",
    "# Count the number of files in the data folder\n",
    "def count_files(folder_path):\n",
    "    if not os.path.isdir(folder_path):\n",
    "        print(f\"Error: {folder_path} is not a valid directory.\")\n",
    "        return\n",
    "\n",
    "    file_count = 0\n",
    "\n",
    "    for _, _, files in os.walk(folder_path):\n",
    "        file_count += len(files)\n",
    "\n",
    "    return file_count"
   ]
  },
  {
   "cell_type": "markdown",
   "id": "eb3cde10",
   "metadata": {},
   "source": [
    "Using the function as define above, the number of the files in both positive and negative folder are obtained: "
   ]
  },
  {
   "cell_type": "code",
   "execution_count": 4,
   "id": "c9f13f2b",
   "metadata": {},
   "outputs": [
    {
     "name": "stdout",
     "output_type": "stream",
     "text": [
      "The number of files in positive data folder is: 12500\n"
     ]
    }
   ],
   "source": [
    "# Positive data file avaliable\n",
    "file_count = count_files(pos_folder)\n",
    "print(f\"The number of files in positive data folder is: {file_count}\")"
   ]
  },
  {
   "cell_type": "code",
   "execution_count": 5,
   "id": "b7d30de9",
   "metadata": {},
   "outputs": [
    {
     "name": "stdout",
     "output_type": "stream",
     "text": [
      "The number of files in nagtive data folder is: 12500\n"
     ]
    }
   ],
   "source": [
    "# Negative data file avaliable \n",
    "file_count = count_files(neg_folder)\n",
    "print(f\"The number of files in nagtive data folder is: {file_count}\")"
   ]
  },
  {
   "cell_type": "markdown",
   "id": "2f9ac5c6",
   "metadata": {},
   "source": [
    "As this training data set is <b>too big</b> for the computer, only <b>5000 data</b> from positive and negative folder respectively will be selected to make the program runs faster. Then these data will be further seperated into test and training sets."
   ]
  },
  {
   "cell_type": "markdown",
   "id": "d1cc4b11",
   "metadata": {},
   "source": [
    "Some helper functions are defined to extract the information and data from the data folder:"
   ]
  },
  {
   "cell_type": "code",
   "execution_count": 6,
   "id": "69e9fc37",
   "metadata": {},
   "outputs": [],
   "source": [
    "# Helper functions\n",
    "\n",
    "# Function to extract unique ID and rating from file name\n",
    "def extract_info(file_name):\n",
    "    id_rating = file_name.split('.')[0]\n",
    "    unique_id, rating = id_rating.split('_')\n",
    "    return int(unique_id), int(rating)\n",
    "\n",
    "# Function to extract the data from the file based on the aclImdb data structure\n",
    "def extract_files(folder, num_files, sentiment):\n",
    "    files = random.sample(os.listdir(folder), num_files)\n",
    "    data = pd.DataFrame(columns=['Sentiment', 'Unique ID', 'Rating', 'Content'])\n",
    "    \n",
    "    for file_name in files:\n",
    "        file_path = os.path.join(folder, file_name)\n",
    "        with open(file_path, 'r', encoding='utf-8') as file:\n",
    "            content = file.read() # read content for the review\n",
    "        unique_id, rating = extract_info(file_name)  # get ID and rating from file name\n",
    "        file_data = pd.DataFrame({'Sentiment': [sentiment], 'Unique ID': [unique_id], 'Rating': [rating], 'Content': [content]})\n",
    "        data = pd.concat([data, file_data], ignore_index=True)\n",
    "    \n",
    "    return data"
   ]
  },
  {
   "cell_type": "code",
   "execution_count": 7,
   "id": "d91458ce",
   "metadata": {},
   "outputs": [
    {
     "data": {
      "text/html": [
       "<div>\n",
       "<style scoped>\n",
       "    .dataframe tbody tr th:only-of-type {\n",
       "        vertical-align: middle;\n",
       "    }\n",
       "\n",
       "    .dataframe tbody tr th {\n",
       "        vertical-align: top;\n",
       "    }\n",
       "\n",
       "    .dataframe thead th {\n",
       "        text-align: right;\n",
       "    }\n",
       "</style>\n",
       "<table border=\"1\" class=\"dataframe\">\n",
       "  <thead>\n",
       "    <tr style=\"text-align: right;\">\n",
       "      <th></th>\n",
       "      <th>Sentiment</th>\n",
       "      <th>Unique ID</th>\n",
       "      <th>Rating</th>\n",
       "      <th>Content</th>\n",
       "    </tr>\n",
       "  </thead>\n",
       "  <tbody>\n",
       "    <tr>\n",
       "      <th>0</th>\n",
       "      <td>pos</td>\n",
       "      <td>2501</td>\n",
       "      <td>8</td>\n",
       "      <td>I'm a fan of both actors/singers especially Ga...</td>\n",
       "    </tr>\n",
       "    <tr>\n",
       "      <th>1</th>\n",
       "      <td>pos</td>\n",
       "      <td>5026</td>\n",
       "      <td>8</td>\n",
       "      <td>This is a great movie that everyone should see...</td>\n",
       "    </tr>\n",
       "    <tr>\n",
       "      <th>2</th>\n",
       "      <td>pos</td>\n",
       "      <td>5107</td>\n",
       "      <td>10</td>\n",
       "      <td>What an overlooked 80's soundtrack. I imagine ...</td>\n",
       "    </tr>\n",
       "    <tr>\n",
       "      <th>3</th>\n",
       "      <td>pos</td>\n",
       "      <td>12180</td>\n",
       "      <td>10</td>\n",
       "      <td>In my opinion, A GUY THING is a hilarious, wit...</td>\n",
       "    </tr>\n",
       "    <tr>\n",
       "      <th>4</th>\n",
       "      <td>pos</td>\n",
       "      <td>6745</td>\n",
       "      <td>8</td>\n",
       "      <td>\b\b\b\bA Turkish Bath sequence in a film noir loc...</td>\n",
       "    </tr>\n",
       "  </tbody>\n",
       "</table>\n",
       "</div>"
      ],
      "text/plain": [
       "  Sentiment Unique ID Rating   \n",
       "0       pos      2501      8  \\\n",
       "1       pos      5026      8   \n",
       "2       pos      5107     10   \n",
       "3       pos     12180     10   \n",
       "4       pos      6745      8   \n",
       "\n",
       "                                             Content  \n",
       "0  I'm a fan of both actors/singers especially Ga...  \n",
       "1  This is a great movie that everyone should see...  \n",
       "2  What an overlooked 80's soundtrack. I imagine ...  \n",
       "3  In my opinion, A GUY THING is a hilarious, wit...  \n",
       "4  \b\b\b\bA Turkish Bath sequence in a film noir loc...  "
      ]
     },
     "execution_count": 7,
     "metadata": {},
     "output_type": "execute_result"
    }
   ],
   "source": [
    "# Extracting data\n",
    "pos_data = extract_files(pos_folder, 5000, 'pos')\n",
    "neg_data = extract_files(neg_folder, 5000, 'neg')\n",
    "\n",
    "# Print the resulting DataFrame\n",
    "raw_data = pd.concat([pos_data, neg_data], ignore_index=True)\n",
    "\n",
    "# Display the start of the data\n",
    "raw_data.head()"
   ]
  },
  {
   "cell_type": "markdown",
   "id": "e1b506f4",
   "metadata": {},
   "source": [
    "<br>"
   ]
  },
  {
   "cell_type": "markdown",
   "id": "18f51fc5",
   "metadata": {},
   "source": [
    "<h3 id=\"2.1.2\">2.1.2 Prelimary Data Exploration and Data Cleaning</h3>"
   ]
  },
  {
   "cell_type": "code",
   "execution_count": 8,
   "id": "6c4edab1",
   "metadata": {},
   "outputs": [
    {
     "data": {
      "text/html": [
       "<div>\n",
       "<style scoped>\n",
       "    .dataframe tbody tr th:only-of-type {\n",
       "        vertical-align: middle;\n",
       "    }\n",
       "\n",
       "    .dataframe tbody tr th {\n",
       "        vertical-align: top;\n",
       "    }\n",
       "\n",
       "    .dataframe thead th {\n",
       "        text-align: right;\n",
       "    }\n",
       "</style>\n",
       "<table border=\"1\" class=\"dataframe\">\n",
       "  <thead>\n",
       "    <tr style=\"text-align: right;\">\n",
       "      <th></th>\n",
       "      <th>Sentiment</th>\n",
       "      <th>Unique ID</th>\n",
       "      <th>Rating</th>\n",
       "      <th>Content</th>\n",
       "    </tr>\n",
       "  </thead>\n",
       "  <tbody>\n",
       "    <tr>\n",
       "      <th>count</th>\n",
       "      <td>10000</td>\n",
       "      <td>10000</td>\n",
       "      <td>10000</td>\n",
       "      <td>10000</td>\n",
       "    </tr>\n",
       "    <tr>\n",
       "      <th>unique</th>\n",
       "      <td>2</td>\n",
       "      <td>8039</td>\n",
       "      <td>8</td>\n",
       "      <td>9976</td>\n",
       "    </tr>\n",
       "    <tr>\n",
       "      <th>top</th>\n",
       "      <td>pos</td>\n",
       "      <td>5324</td>\n",
       "      <td>1</td>\n",
       "      <td>This show comes up with interesting locations ...</td>\n",
       "    </tr>\n",
       "    <tr>\n",
       "      <th>freq</th>\n",
       "      <td>5000</td>\n",
       "      <td>2</td>\n",
       "      <td>2025</td>\n",
       "      <td>3</td>\n",
       "    </tr>\n",
       "  </tbody>\n",
       "</table>\n",
       "</div>"
      ],
      "text/plain": [
       "       Sentiment  Unique ID  Rating   \n",
       "count      10000      10000   10000  \\\n",
       "unique         2       8039       8   \n",
       "top          pos       5324       1   \n",
       "freq        5000          2    2025   \n",
       "\n",
       "                                                  Content  \n",
       "count                                               10000  \n",
       "unique                                               9976  \n",
       "top     This show comes up with interesting locations ...  \n",
       "freq                                                    3  "
      ]
     },
     "execution_count": 8,
     "metadata": {},
     "output_type": "execute_result"
    }
   ],
   "source": [
    "# Examining the data\n",
    "raw_data.describe()"
   ]
  },
  {
   "cell_type": "markdown",
   "id": "fcac1535",
   "metadata": {},
   "source": [
    "It was noted that both Unique ID and Content has duplicated values after the extraction as the frequency of the data is not 1. \n",
    "\n",
    "However, it is <b>not ideal</b> for the model to take in repeated reading in the content field as it does not add any more knowlegde to the model. Moreover, the original unique ID also do not provide much information after combining the data from both positive sentiment and negative sentiment.\n",
    "\n",
    "Thus, an algorithm will be implemented to check for these values and handle them."
   ]
  },
  {
   "cell_type": "markdown",
   "id": "2e18134e",
   "metadata": {},
   "source": [
    "<b>For duplicates in Unique ID</b>, as a <b>new ID will be assigned</b> as the index for the data frame, there is <b>no need</b> for the Unique ID from positive sentiment and negative sentiment folder. Thus, the <b>unique ID column will be dropped</b>. "
   ]
  },
  {
   "cell_type": "markdown",
   "id": "c7ff0aa8",
   "metadata": {},
   "source": [
    "<b>For duplicates in content</b>, it will first find the duplicates, then remove the <b>first instance</b> of the duplicates. To ensure the overall dataset remain balanced, it will perform the random selection of data from the original data file again. These two functions will be <b>called recursively</b> until there is <b>no repetition</b> in the dataframe. The cleaned data will be saved in a new data frame."
   ]
  },
  {
   "cell_type": "markdown",
   "id": "eaf405cd",
   "metadata": {},
   "source": [
    "<h4>Removing duplicates and old Unique ID</h4>"
   ]
  },
  {
   "cell_type": "code",
   "execution_count": 9,
   "id": "1a50992f",
   "metadata": {},
   "outputs": [],
   "source": [
    "# Remove unique ID column from the data\n",
    "org_ID_removed_data = raw_data.drop(\"Unique ID\", axis=1)"
   ]
  },
  {
   "cell_type": "code",
   "execution_count": 10,
   "id": "2bafd4f7",
   "metadata": {},
   "outputs": [],
   "source": [
    "# Helper function\n",
    "\n",
    "# Check for repetetion of data\n",
    "def find_duplicates(dataframe, column):\n",
    "    duplicates = dataframe[dataframe[column].duplicated(keep=False)]\n",
    "    duplicates_sorted = duplicates.sort_values(by=column)\n",
    "\n",
    "    if duplicates_sorted.empty:\n",
    "        print(\"No repeated data entry found.\")\n",
    "    else:\n",
    "        print(\"Repeated data entry/entries found in \"+str(column))\n",
    "        duplicates_pairs = duplicates_sorted.groupby(column).apply(lambda x: x.reset_index(drop=True))\n",
    "        duplicates_pairs.reset_index(drop=True, inplace=True)\n",
    "        return duplicates_pairs\n",
    "    \n",
    "# replace duplicates with other values\n",
    "def get_balance_data_with_duplicates(duplicate_content, original_data, pos_folder, neg_folder):\n",
    "    # Remove the first occurrence of unique items in the duplicated content\n",
    "    data_to_remove = duplicate_content.drop_duplicates(subset='Content', keep='first')\n",
    "    org_ID_removed_data = original_data.drop_duplicates(subset='Content', keep='first')\n",
    "\n",
    "    # Count the number of pos and neg entries in 'data_to_remove'\n",
    "    pos_count = data_to_remove[data_to_remove['Sentiment'] == 'pos'].shape[0]\n",
    "    neg_count = data_to_remove[data_to_remove['Sentiment'] == 'neg'].shape[0]\n",
    "\n",
    "    # Add the removed duplicates such that the data is balanced\n",
    "    added_pos_data = extract_files(pos_folder, pos_count, 'pos')\n",
    "    added_neg_data = extract_files(neg_folder, neg_count, 'neg')\n",
    "\n",
    "    # Remove the 'Unique ID' column from added data\n",
    "    added_pos_data.drop(\"Unique ID\", axis=1, inplace=True)\n",
    "    added_neg_data.drop(\"Unique ID\", axis=1, inplace=True)\n",
    "\n",
    "    added_data = pd.concat([added_pos_data, added_neg_data], ignore_index=True)\n",
    "    balanced_data = pd.concat([org_ID_removed_data, added_data], ignore_index=True)\n",
    "\n",
    "    return balanced_data\n",
    "\n",
    "# recursively call the previouse two function untill data is balanced and no repetition\n",
    "def recursive_data_balancing(dataframe, column, pos_folder, neg_folder):\n",
    "    duplicates = find_duplicates(dataframe, column)\n",
    "\n",
    "    if duplicates is None:\n",
    "        print(\"No more duplicates found.\")\n",
    "        return dataframe\n",
    "\n",
    "    # Call get_balance_data_with_duplicates with the duplicate content\n",
    "    balanced_data = get_balance_data_with_duplicates(duplicates, dataframe, pos_folder, neg_folder)\n",
    "\n",
    "    # Recursively check for duplicates\n",
    "    print(\"Recursive call to balance the data.\")\n",
    "    return recursive_data_balancing(balanced_data, column, pos_folder, neg_folder)"
   ]
  },
  {
   "cell_type": "code",
   "execution_count": 11,
   "id": "ab7f46d6",
   "metadata": {},
   "outputs": [
    {
     "name": "stdout",
     "output_type": "stream",
     "text": [
      "Repeated data entry/entries found in Content\n",
      "Recursive call to balance the data.\n",
      "Repeated data entry/entries found in Content\n",
      "Recursive call to balance the data.\n",
      "Repeated data entry/entries found in Content\n",
      "Recursive call to balance the data.\n",
      "No repeated data entry found.\n",
      "No more duplicates found.\n"
     ]
    }
   ],
   "source": [
    "balanced_data = recursive_data_balancing(org_ID_removed_data, 'Content', pos_folder, neg_folder)"
   ]
  },
  {
   "cell_type": "markdown",
   "id": "cdbc7c11",
   "metadata": {},
   "source": [
    "<h4>Simple statistic analysis</h4>"
   ]
  },
  {
   "cell_type": "markdown",
   "id": "cd8c4a31",
   "metadata": {},
   "source": [
    "Besides the ensure balancing and no repetition of data, some other checks were also performed on the dataset"
   ]
  },
  {
   "cell_type": "code",
   "execution_count": 12,
   "id": "c94d8076",
   "metadata": {},
   "outputs": [
    {
     "name": "stdout",
     "output_type": "stream",
     "text": [
      "<class 'pandas.core.frame.DataFrame'>\n",
      "RangeIndex: 9999 entries, 0 to 9998\n",
      "Data columns (total 3 columns):\n",
      " #   Column     Non-Null Count  Dtype \n",
      "---  ------     --------------  ----- \n",
      " 0   Sentiment  9999 non-null   object\n",
      " 1   Rating     9999 non-null   object\n",
      " 2   Content    9999 non-null   object\n",
      "dtypes: object(3)\n",
      "memory usage: 234.5+ KB\n"
     ]
    }
   ],
   "source": [
    "# checking the overall information\n",
    "balanced_data.info()"
   ]
  },
  {
   "cell_type": "code",
   "execution_count": 13,
   "id": "25248cca",
   "metadata": {},
   "outputs": [
    {
     "data": {
      "text/plain": [
       "Sentiment    0\n",
       "Rating       0\n",
       "Content      0\n",
       "dtype: int64"
      ]
     },
     "execution_count": 13,
     "metadata": {},
     "output_type": "execute_result"
    }
   ],
   "source": [
    "# check for null data\n",
    "balanced_data.isnull().sum()"
   ]
  },
  {
   "cell_type": "code",
   "execution_count": 14,
   "id": "4beda128",
   "metadata": {},
   "outputs": [
    {
     "data": {
      "text/plain": [
       "Sentiment       2\n",
       "Rating          8\n",
       "Content      9999\n",
       "dtype: int64"
      ]
     },
     "execution_count": 14,
     "metadata": {},
     "output_type": "execute_result"
    }
   ],
   "source": [
    "# double checking for unique data\n",
    "balanced_data.nunique()"
   ]
  },
  {
   "cell_type": "code",
   "execution_count": 15,
   "id": "c48da5b9",
   "metadata": {},
   "outputs": [
    {
     "name": "stdout",
     "output_type": "stream",
     "text": [
      "Number of entries in 'Sentiment' column: 9999\n",
      "Number of entries in 'Rating' column: 9999\n",
      "Number of entries in 'Content' column: 9999\n"
     ]
    }
   ],
   "source": [
    "# double checking the total number of data entries\n",
    "print(\"Number of entries in 'Sentiment' column:\", balanced_data['Sentiment'].shape[0])\n",
    "print(\"Number of entries in 'Rating' column:\", balanced_data['Rating'].shape[0])\n",
    "print(\"Number of entries in 'Content' column:\", balanced_data['Content'].shape[0])"
   ]
  },
  {
   "cell_type": "code",
   "execution_count": 16,
   "id": "30b92028",
   "metadata": {},
   "outputs": [
    {
     "data": {
      "text/plain": [
       "Sentiment\n",
       "pos    5000\n",
       "neg    4999\n",
       "Name: count, dtype: int64"
      ]
     },
     "execution_count": 16,
     "metadata": {},
     "output_type": "execute_result"
    }
   ],
   "source": [
    "balanced_data['Sentiment'].value_counts()"
   ]
  },
  {
   "cell_type": "code",
   "execution_count": 17,
   "id": "ebb246a5",
   "metadata": {},
   "outputs": [
    {
     "data": {
      "image/png": "[encoded data removed]",
      "text/plain": [
       "<Figure size 1200x600 with 2 Axes>"
      ]
     },
     "metadata": {},
     "output_type": "display_data"
    }
   ],
   "source": [
    "# Plot a grpah to show the distribition of ratings\n",
    "import matplotlib.pyplot as plt\n",
    "\n",
    "# Distribution of Ratings\n",
    "rating_counts = balanced_data['Rating'].value_counts().sort_index()\n",
    "\n",
    "# Distribution of Sentiment\n",
    "sentiment_counts = balanced_data['Sentiment'].value_counts()\n",
    "\n",
    "# Create a figure with two subplots\n",
    "fig, (ax1, ax2) = plt.subplots(1, 2, figsize=(12, 6))\n",
    "\n",
    "# Plot Distribution of Ratings\n",
    "ax1.set_xticks(range(1, 11))\n",
    "ax1.set_xticklabels(range(1, 11))\n",
    "ax1.bar(rating_counts.index, rating_counts.values)\n",
    "ax1.set_xlabel('Rating', fontsize=12)\n",
    "ax1.set_ylabel('Count',  fontsize=12)\n",
    "ax1.set_title('Distribution of Ratings')\n",
    "\n",
    "# Plot Distribution of Sentiment\n",
    "ax2.pie(sentiment_counts.values, \n",
    "        labels=None, \n",
    "        autopct='%1.1f%%', \n",
    "        startangle=90) # no labels, set as 1 decimal place, title the angle by 90 degree\n",
    "ax2.set_title('Distribution of Sentiment')\n",
    "ax2.legend(sentiment_counts.index, loc=\"best\", fontsize=12)\n",
    "\n",
    "# Adjust spacing between subplots\n",
    "plt.tight_layout()\n",
    "\n",
    "# Display the plot\n",
    "plt.show()"
   ]
  },
  {
   "cell_type": "markdown",
   "id": "995507fb",
   "metadata": {},
   "source": [
    "It can be seen that this dataframe contains 10000 with a <b>balanced distribution</b> of positive and negative sentiment data. The <b>most common rating</b> is 1 followed by 10. Both of them are the most frequent term in their sentiment respectively.\n",
    "\n",
    "There is also <b>no null data</b> in all three columns."
   ]
  },
  {
   "cell_type": "markdown",
   "id": "22a8cea9",
   "metadata": {},
   "source": [
    "<b>Collation</b> is obtained using BigramAssocMeasures from nltk to examine the relationship between nearby texts. This is useful to identify negations."
   ]
  },
  {
   "cell_type": "code",
   "execution_count": 18,
   "id": "3dc55566",
   "metadata": {},
   "outputs": [],
   "source": [
    "# Function to calculate collocations in a given text\n",
    "def calculate_collocations(text):\n",
    "    words = nltk.word_tokenize(text)\n",
    "    finder = BigramCollocationFinder.from_words(words)\n",
    "    finder.apply_freq_filter(2)  # Adjust the frequency threshold as needed\n",
    "    collocations = finder.nbest(BigramAssocMeasures.pmi, 10)  \n",
    "    return collocations\n",
    "\n",
    "# Combine the content of balanced_data['Content'] into a single string\n",
    "text = ' '.join(balanced_data['Content'])\n",
    "\n",
    "# Calculate collocations for the combined text\n",
    "collocations = calculate_collocations(text)\n",
    "\n",
    "# Create a DataFrame to store the collocations and frequencies\n",
    "collocations_df = pd.DataFrame(collocations, columns=['Word 1', 'Word 2'])\n",
    "collocations_df['Frequency'] = collocations_df.apply(lambda row: text.count(' '.join(row)), axis=1)\n",
    "\n",
    "# Sort the DataFrame by frequency in descending order\n",
    "collocations_df = collocations_df.sort_values('Frequency', ascending=False).reset_index(drop=True)"
   ]
  },
  {
   "cell_type": "code",
   "execution_count": 19,
   "id": "527252d6",
   "metadata": {},
   "outputs": [
    {
     "data": {
      "text/html": [
       "<div>\n",
       "<style scoped>\n",
       "    .dataframe tbody tr th:only-of-type {\n",
       "        vertical-align: middle;\n",
       "    }\n",
       "\n",
       "    .dataframe tbody tr th {\n",
       "        vertical-align: top;\n",
       "    }\n",
       "\n",
       "    .dataframe thead th {\n",
       "        text-align: right;\n",
       "    }\n",
       "</style>\n",
       "<table border=\"1\" class=\"dataframe\">\n",
       "  <thead>\n",
       "    <tr style=\"text-align: right;\">\n",
       "      <th></th>\n",
       "      <th>Word 1</th>\n",
       "      <th>Word 2</th>\n",
       "      <th>Frequency</th>\n",
       "    </tr>\n",
       "  </thead>\n",
       "  <tbody>\n",
       "    <tr>\n",
       "      <th>0</th>\n",
       "      <td>-Celluloid</td>\n",
       "      <td>Rehab</td>\n",
       "      <td>2</td>\n",
       "    </tr>\n",
       "    <tr>\n",
       "      <th>1</th>\n",
       "      <td>ALAIN</td>\n",
       "      <td>DELON</td>\n",
       "      <td>2</td>\n",
       "    </tr>\n",
       "    <tr>\n",
       "      <th>2</th>\n",
       "      <td>ANDREI</td>\n",
       "      <td>RUBLEV</td>\n",
       "      <td>2</td>\n",
       "    </tr>\n",
       "    <tr>\n",
       "      <th>3</th>\n",
       "      <td>Alok</td>\n",
       "      <td>Nath</td>\n",
       "      <td>2</td>\n",
       "    </tr>\n",
       "    <tr>\n",
       "      <th>4</th>\n",
       "      <td>Amores</td>\n",
       "      <td>Perros</td>\n",
       "      <td>2</td>\n",
       "    </tr>\n",
       "    <tr>\n",
       "      <th>5</th>\n",
       "      <td>Antonella</td>\n",
       "      <td>Ríos</td>\n",
       "      <td>2</td>\n",
       "    </tr>\n",
       "    <tr>\n",
       "      <th>6</th>\n",
       "      <td>Anupam</td>\n",
       "      <td>Kher</td>\n",
       "      <td>2</td>\n",
       "    </tr>\n",
       "    <tr>\n",
       "      <th>7</th>\n",
       "      <td>Arne</td>\n",
       "      <td>Glimcher</td>\n",
       "      <td>2</td>\n",
       "    </tr>\n",
       "    <tr>\n",
       "      <th>8</th>\n",
       "      <td>BRIEF</td>\n",
       "      <td>ENCOUNTER</td>\n",
       "      <td>2</td>\n",
       "    </tr>\n",
       "    <tr>\n",
       "      <th>9</th>\n",
       "      <td>BRITTANY</td>\n",
       "      <td>SNOW</td>\n",
       "      <td>2</td>\n",
       "    </tr>\n",
       "  </tbody>\n",
       "</table>\n",
       "</div>"
      ],
      "text/plain": [
       "       Word 1     Word 2  Frequency\n",
       "0  -Celluloid      Rehab          2\n",
       "1       ALAIN      DELON          2\n",
       "2      ANDREI     RUBLEV          2\n",
       "3        Alok       Nath          2\n",
       "4      Amores     Perros          2\n",
       "5   Antonella       Ríos          2\n",
       "6      Anupam       Kher          2\n",
       "7        Arne   Glimcher          2\n",
       "8       BRIEF  ENCOUNTER          2\n",
       "9    BRITTANY       SNOW          2"
      ]
     },
     "execution_count": 19,
     "metadata": {},
     "output_type": "execute_result"
    }
   ],
   "source": [
    "# Display the top 5 collocations with frequencies\n",
    "collocations_df.head(10)"
   ]
  },
  {
   "cell_type": "markdown",
   "id": "aa2749f9",
   "metadata": {},
   "source": [
    "Based on the analysis above, there doesnot seem to be any negations "
   ]
  },
  {
   "cell_type": "markdown",
   "id": "be1b1488",
   "metadata": {},
   "source": [
    "Next, the entries were tokenized to examine the common words used in the reviews using frequency distribution:"
   ]
  },
  {
   "cell_type": "code",
   "execution_count": 20,
   "id": "56654e7c",
   "metadata": {},
   "outputs": [
    {
     "data": {
      "image/png": "[encoded data removed]",
      "text/plain": [
       "<Figure size 1000x600 with 1 Axes>"
      ]
     },
     "metadata": {},
     "output_type": "display_data"
    }
   ],
   "source": [
    "# Tokenize the words in the balanced_data[\"Content\"] column\n",
    "all_words = nltk.word_tokenize(' '.join(balanced_data[\"Content\"]))\n",
    "\n",
    "# Calculate the frequency distribution of words\n",
    "freq_dist = FreqDist(all_words)\n",
    "\n",
    "# Get the 30 most common words\n",
    "most_common_words = freq_dist.most_common(30)\n",
    "\n",
    "# Extract the words and their frequencies\n",
    "words, frequencies = zip(*most_common_words)\n",
    "\n",
    "# Plot the number of occurrences\n",
    "plt.figure(figsize=(10, 6))\n",
    "plt.bar(words, frequencies)\n",
    "plt.xlabel('Words')\n",
    "plt.ylabel('Frequency')\n",
    "plt.title('Top 30 Most Common Words')\n",
    "plt.xticks(rotation=45)\n",
    "plt.show()"
   ]
  },
  {
   "cell_type": "markdown",
   "id": "225d157c",
   "metadata": {},
   "source": [
    "It was noted that most of the common words were <b>punctuation marks</b> (such as \",\", \".\", \"<\" and \">\"), <b>determiners</b> (such as \"the\", \"that\", and \"this\") as well as <b>conjunctions</b> (such as \"and\", \"for\"). Thus a stopwords and punctuation removal is needed to obtain the part of the string that contains the most information. This will be done using the stopwords and Punkt tokenizer, which is a pre-trained sentence tokenizer available in NLTK.\n",
    "\n",
    "Other common words that are present in the reviews are <b>related to the subject domain</b> (moview review. Some of the examples of these words are \"movie\" and \"film\".\n",
    "\n",
    "It is also noted that besides the common stopwords and words that is related to the subject domain(moview review), there is also another commonly used term <b>\"br\"</b> further analysis of this term will thus be carried out."
   ]
  },
  {
   "cell_type": "markdown",
   "id": "5c5cf3a0",
   "metadata": {},
   "source": [
    "<h4>Cleaning for the use of tags</h4>"
   ]
  },
  {
   "cell_type": "code",
   "execution_count": 21,
   "id": "1f72321d",
   "metadata": {},
   "outputs": [
    {
     "data": {
      "text/html": [
       "<div>\n",
       "<style scoped>\n",
       "    .dataframe tbody tr th:only-of-type {\n",
       "        vertical-align: middle;\n",
       "    }\n",
       "\n",
       "    .dataframe tbody tr th {\n",
       "        vertical-align: top;\n",
       "    }\n",
       "\n",
       "    .dataframe thead th {\n",
       "        text-align: right;\n",
       "    }\n",
       "</style>\n",
       "<table border=\"1\" class=\"dataframe\">\n",
       "  <thead>\n",
       "    <tr style=\"text-align: right;\">\n",
       "      <th></th>\n",
       "      <th>Snippet</th>\n",
       "    </tr>\n",
       "  </thead>\n",
       "  <tbody>\n",
       "    <tr>\n",
       "      <th>0</th>\n",
       "      <td>omment...&lt;br /&gt;&lt;br /&gt;I</td>\n",
       "    </tr>\n",
       "    <tr>\n",
       "      <th>1</th>\n",
       "      <td>ntz book.&lt;br /&gt;&lt;br /&gt;B</td>\n",
       "    </tr>\n",
       "    <tr>\n",
       "      <th>4</th>\n",
       "      <td>is movie &lt;br /&gt;&lt;br /&gt;t</td>\n",
       "    </tr>\n",
       "    <tr>\n",
       "      <th>6</th>\n",
       "      <td>episode,&lt;br /&gt;&lt;br /&gt;T</td>\n",
       "    </tr>\n",
       "    <tr>\n",
       "      <th>7</th>\n",
       "      <td>r anyway.&lt;br /&gt;&lt;br /&gt;T</td>\n",
       "    </tr>\n",
       "    <tr>\n",
       "      <th>...</th>\n",
       "      <td>...</td>\n",
       "    </tr>\n",
       "    <tr>\n",
       "      <th>9994</th>\n",
       "      <td>solve the brutal slayi</td>\n",
       "    </tr>\n",
       "    <tr>\n",
       "      <th>9995</th>\n",
       "      <td>isn't it.&lt;br /&gt;&lt;br /&gt;I</td>\n",
       "    </tr>\n",
       "    <tr>\n",
       "      <th>9996</th>\n",
       "      <td>when you brush your t</td>\n",
       "    </tr>\n",
       "    <tr>\n",
       "      <th>9997</th>\n",
       "      <td>excited.&lt;br /&gt;&lt;br /&gt;T</td>\n",
       "    </tr>\n",
       "    <tr>\n",
       "      <th>9998</th>\n",
       "      <td>ckground.&lt;br /&gt;&lt;br /&gt;T</td>\n",
       "    </tr>\n",
       "  </tbody>\n",
       "</table>\n",
       "<p>7038 rows × 1 columns</p>\n",
       "</div>"
      ],
      "text/plain": [
       "                     Snippet\n",
       "0     omment...<br /><br />I\n",
       "1     ntz book.<br /><br />B\n",
       "4     is movie <br /><br />t\n",
       "6      episode,<br /><br />T\n",
       "7     r anyway.<br /><br />T\n",
       "...                      ...\n",
       "9994  solve the brutal slayi\n",
       "9995  isn't it.<br /><br />I\n",
       "9996   when you brush your t\n",
       "9997   excited.<br /><br />T\n",
       "9998  ckground.<br /><br />T\n",
       "\n",
       "[7038 rows x 1 columns]"
      ]
     },
     "execution_count": 21,
     "metadata": {},
     "output_type": "execute_result"
    }
   ],
   "source": [
    "# Filter the entries containing \"br\"\n",
    "filtered_data = balanced_data[balanced_data[\"Content\"].str.contains(\"br\")]\n",
    "\n",
    "# Create a copy of the filtered DataFrame\n",
    "filtered_data = filtered_data.copy()\n",
    "\n",
    "# Extract the substring with 10 characters before and after \"br\"\n",
    "filtered_data.loc[:, \"Snippet\"] = filtered_data[\"Content\"].str.extract(r\"(.{0,10}br.{0,10})\")\n",
    "\n",
    "# Display the filtered data\n",
    "filtered_data[[\"Snippet\"]]"
   ]
  },
  {
   "cell_type": "markdown",
   "id": "787843b3",
   "metadata": {},
   "source": [
    "It is noticed that the dataset uses &lt;br /&gt; tag as a part of the content. This sytex is mostly used to symbolise a change of line. Thus, the &lt;br /&gt; will be removed as part of the stopwords removal. "
   ]
  },
  {
   "cell_type": "markdown",
   "id": "87b714a1",
   "metadata": {},
   "source": [
    "To prevent other issues related to tags, a further check is conducted to verify other usage of < /> and <>"
   ]
  },
  {
   "cell_type": "code",
   "execution_count": 22,
   "id": "08baba42",
   "metadata": {},
   "outputs": [
    {
     "name": "stdout",
     "output_type": "stream",
     "text": [
      "<br />\n",
      "<3 <br />\n",
      "< than 30 minutes of watching, being bored and irritated. <br />\n"
     ]
    }
   ],
   "source": [
    "# Filter the entries containing \"<\" and \"/>\"\n",
    "data_tags = balanced_data[balanced_data[\"Content\"].str.contains(\"<.*?/>\")]\n",
    "\n",
    "# Create a copy of the tags\n",
    "data_tags = data_tags.copy()\n",
    "\n",
    "# Extracting the substrings starts with \"<\" and end with \"/>\"\n",
    "data_tags[\"tags\"] = data_tags[\"Content\"].str.extract(r\"(<.*?/>)\")\n",
    "\n",
    "# Get the unique entries of tags\n",
    "tags = data_tags[\"tags\"].unique()\n",
    "\n",
    "# Print the unique entries\n",
    "for tag in tags:\n",
    "    print(tag)"
   ]
  },
  {
   "cell_type": "markdown",
   "id": "fee52208",
   "metadata": {},
   "source": [
    "The above algorithm confirms that the <b>only tag used</b> is &lt;br /&gt;\n",
    "\n",
    "Thus, the data need to take not of the use of  &lt;br /&gt; when carry out stopwords removal"
   ]
  },
  {
   "cell_type": "code",
   "execution_count": 23,
   "id": "a6944f80",
   "metadata": {},
   "outputs": [
    {
     "name": "stdout",
     "output_type": "stream",
     "text": [
      "Occurrences of specific punctuation marks:\n",
      "/: 41095\n",
      "<: 41076\n",
      ">: 41095\n"
     ]
    }
   ],
   "source": [
    "# Get the occurrences of some punctuation marks\n",
    "punctuation_occurrences = {\n",
    "    \"/\": freq_dist[\"/\"],\n",
    "    \"<\": freq_dist[\"<\"],\n",
    "    \">\": freq_dist[\">\"]\n",
    "}\n",
    "\n",
    "# Display the occurrences of punctuation marks\n",
    "print(\"Occurrences of specific punctuation marks:\")\n",
    "for punctuation, count in punctuation_occurrences.items():\n",
    "    print(f\"{punctuation}: {count}\")"
   ]
  },
  {
   "cell_type": "markdown",
   "id": "7acf12d9",
   "metadata": {},
   "source": [
    "From the algorithm above, it was noticed that the use of < and > were largely the same while the use of / is slightly higher.\n",
    "\n",
    "This could indicate <b>other usage</b> of \"/\" besides tags."
   ]
  },
  {
   "cell_type": "code",
   "execution_count": 24,
   "id": "ab581e9d",
   "metadata": {
    "scrolled": true
   },
   "outputs": [],
   "source": [
    "content_column = balanced_data['Content']\n",
    "\n",
    "# Define the categories\n",
    "categories = {\n",
    "    'num/num': r'(?P<before>\\d+(\\.\\d+)?)/(?P<after>\\d+(\\.\\d+)?)',\n",
    "    'num/special': r'(?P<before>\\d+(\\.\\d+)?)/(?P<after>[\\W\\t])',\n",
    "    'special/num': r'(?P<before>[\\W\\t])/(?P<after>\\d+(\\.\\d+)?)',\n",
    "    'num/alpha': r'(?P<before>\\d+(\\.\\d+)?)/(?P<after>[a-zA-Z])',\n",
    "    'alpha/num': r'(?P<before>[a-zA-Z])/(?P<after>\\d+(\\.\\d+)?)',\n",
    "    'alpha/special': r'(?P<before>[a-zA-Z])/(?P<after>[^\\w\\s\\t])',\n",
    "    'special/alpha': r'(?P<before>[^\\w\\s\\t])/(?P<after>[a-zA-Z\\s])',\n",
    "    'alpha/alpha': r'(?P<before>[a-zA-Z])/(?P<after>[a-zA-Z])',\n",
    "    'special/special': r'(?P<before>[^\\w\\s\\t])/(?P<after>[^\\w\\s\\t])',\n",
    "    'space/alpha': r'(?P<before>\\s)/(?P<after>[a-zA-Z])',\n",
    "    'alpha/space': r'(?P<before>[a-zA-Z])/(?P<after>\\s)',\n",
    "    'space/space': r'(?P<before>[\\s\\t])/(?P<after>[\\s\\t])'\n",
    "}\n",
    "\n",
    "# Categorize the strings and extract characters before and after \"/\"\n",
    "results = []\n",
    "for category, pattern in categories.items():\n",
    "    matches = content_column.str.extractall(pattern)\n",
    "    if not matches.empty:\n",
    "        matches = matches.reset_index()\n",
    "        matches = matches.rename(columns={'level_0': 'index'})\n",
    "        matches = matches[['index', 'before', 'after']]\n",
    "        matches['category'] = category\n",
    "        results.append(matches)\n",
    "\n",
    "# Combine the results into a single dataframe\n",
    "if results:\n",
    "    combined_results = pd.concat(results)\n",
    "    combined_results = combined_results.reset_index(drop=True)  # Reset the index\n",
    "else:\n",
    "    combined_results = pd.DataFrame()\n"
   ]
  },
  {
   "cell_type": "markdown",
   "id": "7ccb9797",
   "metadata": {},
   "source": [
    "The frequency of the isage can be determined using the code below:"
   ]
  },
  {
   "cell_type": "code",
   "execution_count": 25,
   "id": "ca012b5a",
   "metadata": {},
   "outputs": [
    {
     "name": "stdout",
     "output_type": "stream",
     "text": [
      "           category  count\n",
      "0       alpha/alpha   1468\n",
      "1           num/num    928\n",
      "2       space/space     97\n",
      "3       alpha/space     52\n",
      "4     special/alpha     40\n",
      "5   special/special     34\n",
      "6         alpha/num     14\n",
      "7     alpha/special      9\n",
      "8       special/num      7\n",
      "9         num/alpha      7\n",
      "10      space/alpha      6\n",
      "11      num/special      5\n"
     ]
    }
   ],
   "source": [
    "category_counts = combined_results['category'].value_counts().reset_index()\n",
    "category_counts.columns = ['category', 'count']\n",
    "category_counts = category_counts.sort_values('count', ascending=False)\n",
    "print(category_counts)"
   ]
  },
  {
   "cell_type": "markdown",
   "id": "4f60368b",
   "metadata": {},
   "source": [
    "With that in mind, the original data was re-examined and realised the most common usage of\"/\" is for choices between two words, while the second most common usage is for rating (ie. 8.5/10). "
   ]
  },
  {
   "cell_type": "markdown",
   "id": "2b28619f",
   "metadata": {},
   "source": [
    "Thus, when carrying out text processing pipelines later, <b>&lt;br /&gt; will be removed </b>as it is tag that provides little insights about the text. Moreover, numbers around \"/\" in the form of <b>number / number</b> will also be <b>removed</b>. "
   ]
  },
  {
   "cell_type": "code",
   "execution_count": 26,
   "id": "edefe824",
   "metadata": {},
   "outputs": [
    {
     "data": {
      "text/html": [
       "<div>\n",
       "<style scoped>\n",
       "    .dataframe tbody tr th:only-of-type {\n",
       "        vertical-align: middle;\n",
       "    }\n",
       "\n",
       "    .dataframe tbody tr th {\n",
       "        vertical-align: top;\n",
       "    }\n",
       "\n",
       "    .dataframe thead th {\n",
       "        text-align: right;\n",
       "    }\n",
       "</style>\n",
       "<table border=\"1\" class=\"dataframe\">\n",
       "  <thead>\n",
       "    <tr style=\"text-align: right;\">\n",
       "      <th></th>\n",
       "      <th>index</th>\n",
       "      <th>before</th>\n",
       "      <th>after</th>\n",
       "      <th>category</th>\n",
       "      <th>string_removal</th>\n",
       "    </tr>\n",
       "  </thead>\n",
       "  <tbody>\n",
       "    <tr>\n",
       "      <th>0</th>\n",
       "      <td>0</td>\n",
       "      <td>8</td>\n",
       "      <td>10</td>\n",
       "      <td>num/num</td>\n",
       "      <td>8/10</td>\n",
       "    </tr>\n",
       "    <tr>\n",
       "      <th>1</th>\n",
       "      <td>6</td>\n",
       "      <td>7</td>\n",
       "      <td>10</td>\n",
       "      <td>num/num</td>\n",
       "      <td>7/10</td>\n",
       "    </tr>\n",
       "    <tr>\n",
       "      <th>2</th>\n",
       "      <td>16</td>\n",
       "      <td>10</td>\n",
       "      <td>10</td>\n",
       "      <td>num/num</td>\n",
       "      <td>10/10</td>\n",
       "    </tr>\n",
       "    <tr>\n",
       "      <th>3</th>\n",
       "      <td>23</td>\n",
       "      <td>11</td>\n",
       "      <td>10</td>\n",
       "      <td>num/num</td>\n",
       "      <td>11/10</td>\n",
       "    </tr>\n",
       "    <tr>\n",
       "      <th>4</th>\n",
       "      <td>26</td>\n",
       "      <td>8</td>\n",
       "      <td>10</td>\n",
       "      <td>num/num</td>\n",
       "      <td>8/10</td>\n",
       "    </tr>\n",
       "    <tr>\n",
       "      <th>...</th>\n",
       "      <td>...</td>\n",
       "      <td>...</td>\n",
       "      <td>...</td>\n",
       "      <td>...</td>\n",
       "      <td>...</td>\n",
       "    </tr>\n",
       "    <tr>\n",
       "      <th>923</th>\n",
       "      <td>9940</td>\n",
       "      <td>3</td>\n",
       "      <td>10</td>\n",
       "      <td>num/num</td>\n",
       "      <td>3/10</td>\n",
       "    </tr>\n",
       "    <tr>\n",
       "      <th>924</th>\n",
       "      <td>9940</td>\n",
       "      <td>1</td>\n",
       "      <td>5</td>\n",
       "      <td>num/num</td>\n",
       "      <td>1/5</td>\n",
       "    </tr>\n",
       "    <tr>\n",
       "      <th>925</th>\n",
       "      <td>9964</td>\n",
       "      <td>3</td>\n",
       "      <td>10</td>\n",
       "      <td>num/num</td>\n",
       "      <td>3/10</td>\n",
       "    </tr>\n",
       "    <tr>\n",
       "      <th>926</th>\n",
       "      <td>9988</td>\n",
       "      <td>1</td>\n",
       "      <td>2</td>\n",
       "      <td>num/num</td>\n",
       "      <td>1/2</td>\n",
       "    </tr>\n",
       "    <tr>\n",
       "      <th>927</th>\n",
       "      <td>9994</td>\n",
       "      <td>1</td>\n",
       "      <td>2</td>\n",
       "      <td>num/num</td>\n",
       "      <td>1/2</td>\n",
       "    </tr>\n",
       "  </tbody>\n",
       "</table>\n",
       "<p>928 rows × 5 columns</p>\n",
       "</div>"
      ],
      "text/plain": [
       "     index before after category string_removal\n",
       "0        0      8    10  num/num           8/10\n",
       "1        6      7    10  num/num           7/10\n",
       "2       16     10    10  num/num          10/10\n",
       "3       23     11    10  num/num          11/10\n",
       "4       26      8    10  num/num           8/10\n",
       "..     ...    ...   ...      ...            ...\n",
       "923   9940      3    10  num/num           3/10\n",
       "924   9940      1     5  num/num            1/5\n",
       "925   9964      3    10  num/num           3/10\n",
       "926   9988      1     2  num/num            1/2\n",
       "927   9994      1     2  num/num            1/2\n",
       "\n",
       "[928 rows x 5 columns]"
      ]
     },
     "execution_count": 26,
     "metadata": {},
     "output_type": "execute_result"
    }
   ],
   "source": [
    "num_num_df = combined_results[combined_results['category'] == 'num/num'].copy()\n",
    "num_num_df['string_removal'] = num_num_df['before'] + '/' + num_num_df['after']\n",
    "num_num_df"
   ]
  },
  {
   "cell_type": "markdown",
   "id": "0fdca10b",
   "metadata": {},
   "source": [
    "<h4>Tokenization and lemmatization</h4>"
   ]
  },
  {
   "cell_type": "code",
   "execution_count": 27,
   "id": "086195c6",
   "metadata": {},
   "outputs": [
    {
     "data": {
      "text/plain": [
       "True"
      ]
     },
     "execution_count": 27,
     "metadata": {},
     "output_type": "execute_result"
    }
   ],
   "source": [
    "# Download NLTK resources\n",
    "nltk.download('stopwords', quiet=True) # Stop words removal\n",
    "nltk.download('wordnet', quiet=True) # Lemmatization\n",
    "nltk.download('words', quiet=True) # Spelling check\n",
    "nltk.download('maxent_ne_chunker', quiet=True) # Expand short forms"
   ]
  },
  {
   "cell_type": "code",
   "execution_count": 28,
   "id": "9a8480ab",
   "metadata": {},
   "outputs": [],
   "source": [
    "def expand_short_forms(word, previous_word):\n",
    "    if word == \"'s\":\n",
    "        # Check if the previous word is a proper noun or named entity\n",
    "        if previous_word[0].isupper() or isinstance(ne_chunk([(previous_word, '')]), Tree):\n",
    "            # Likely indicating possession\n",
    "            return word\n",
    "        else:\n",
    "            # Likely contraction of \"is\"\n",
    "            return \"is\"\n",
    "    elif word == \"n't\":\n",
    "        return \"not\"\n",
    "    else:\n",
    "        return word"
   ]
  },
  {
   "cell_type": "code",
   "execution_count": 29,
   "id": "299b95bb",
   "metadata": {},
   "outputs": [],
   "source": [
    "# Function to preprocess the text\n",
    "def text_processing_pipeline(text, string=None, column=None):\n",
    "    # Replace string entries\n",
    "    if string is not None:\n",
    "        text = text.replace(string, '')\n",
    "\n",
    "    # Remove elements in specified column\n",
    "    if column is not None:\n",
    "        for element in column:\n",
    "            text = text.replace(element, '')\n",
    "    \n",
    "    # Change all text to lower case\n",
    "    text = text.lower()\n",
    "    \n",
    "    # Convert short forms to full format\n",
    "    words = text.split()\n",
    "    expanded_words = [expand_short_forms(word, words[i-1]) if i > 0 else word for i, word in enumerate(words)]\n",
    "    text = ' '.join(expanded_words)\n",
    "\n",
    "    # Remove the spacial character from the text\n",
    "    text = re.sub(r'[^a-z0-9]', ' ', text)\n",
    "\n",
    "    # Tokenization\n",
    "    words = word_tokenize(text)\n",
    "    \n",
    "#     # Spell checking, remove if spell\n",
    "#     valid_words = set(words.words())\n",
    "#     words = [word for word in words if word in valid_words]\n",
    "\n",
    "    # Stop Words removal, result stored in words\n",
    "    stop_words = set(stopwords.words('english'))\n",
    "    words = (word for word in words if word not in stop_words)\n",
    "    \n",
    "    # change to synonyms and reduce word form\n",
    "    lemmatizer = WordNetLemmatizer()\n",
    "    words = [lemmatizer.lemmatize(word) for word in words]\n",
    "    # Combine the words back\n",
    "    text = ' '.join(word for word in words)\n",
    "\n",
    "    # Removing spaces before and after the text\n",
    "    text = text.strip()\n",
    "\n",
    "    # Change the spaces with length more than 1 to 1\n",
    "    text = re.sub(r'\\s+', ' ', text)\n",
    "\n",
    "    return text"
   ]
  },
  {
   "cell_type": "code",
   "execution_count": 30,
   "id": "b8f0bf22",
   "metadata": {},
   "outputs": [
    {
     "data": {
      "text/html": [
       "<div>\n",
       "<style scoped>\n",
       "    .dataframe tbody tr th:only-of-type {\n",
       "        vertical-align: middle;\n",
       "    }\n",
       "\n",
       "    .dataframe tbody tr th {\n",
       "        vertical-align: top;\n",
       "    }\n",
       "\n",
       "    .dataframe thead th {\n",
       "        text-align: right;\n",
       "    }\n",
       "</style>\n",
       "<table border=\"1\" class=\"dataframe\">\n",
       "  <thead>\n",
       "    <tr style=\"text-align: right;\">\n",
       "      <th></th>\n",
       "      <th>Sentiment</th>\n",
       "      <th>Rating</th>\n",
       "      <th>Content</th>\n",
       "    </tr>\n",
       "  </thead>\n",
       "  <tbody>\n",
       "    <tr>\n",
       "      <th>0</th>\n",
       "      <td>pos</td>\n",
       "      <td>8</td>\n",
       "      <td>fan actor singer especially gackt first discov...</td>\n",
       "    </tr>\n",
       "    <tr>\n",
       "      <th>1</th>\n",
       "      <td>pos</td>\n",
       "      <td>8</td>\n",
       "      <td>great movie everyone see play like dean koontz...</td>\n",
       "    </tr>\n",
       "    <tr>\n",
       "      <th>2</th>\n",
       "      <td>pos</td>\n",
       "      <td>10</td>\n",
       "      <td>overlooked 80 soundtrack imagine john travolta...</td>\n",
       "    </tr>\n",
       "    <tr>\n",
       "      <th>3</th>\n",
       "      <td>pos</td>\n",
       "      <td>10</td>\n",
       "      <td>opinion guy thing hilarious witty sexy romanti...</td>\n",
       "    </tr>\n",
       "    <tr>\n",
       "      <th>4</th>\n",
       "      <td>pos</td>\n",
       "      <td>8</td>\n",
       "      <td>turkish bath sequence film noir located new yo...</td>\n",
       "    </tr>\n",
       "    <tr>\n",
       "      <th>...</th>\n",
       "      <td>...</td>\n",
       "      <td>...</td>\n",
       "      <td>...</td>\n",
       "    </tr>\n",
       "    <tr>\n",
       "      <th>9994</th>\n",
       "      <td>neg</td>\n",
       "      <td>4</td>\n",
       "      <td>alicia silverstone pre clueless play modern da...</td>\n",
       "    </tr>\n",
       "    <tr>\n",
       "      <th>9995</th>\n",
       "      <td>neg</td>\n",
       "      <td>1</td>\n",
       "      <td>wish could give movie zero even lower sadly de...</td>\n",
       "    </tr>\n",
       "    <tr>\n",
       "      <th>9996</th>\n",
       "      <td>pos</td>\n",
       "      <td>8</td>\n",
       "      <td>put carla shoe overworked unappreciated admini...</td>\n",
       "    </tr>\n",
       "    <tr>\n",
       "      <th>9997</th>\n",
       "      <td>pos</td>\n",
       "      <td>10</td>\n",
       "      <td>star trek fan long remember announced planning...</td>\n",
       "    </tr>\n",
       "    <tr>\n",
       "      <th>9998</th>\n",
       "      <td>neg</td>\n",
       "      <td>4</td>\n",
       "      <td>franco rossi 1985 six hour italian mini series...</td>\n",
       "    </tr>\n",
       "  </tbody>\n",
       "</table>\n",
       "<p>9999 rows × 3 columns</p>\n",
       "</div>"
      ],
      "text/plain": [
       "     Sentiment Rating                                            Content\n",
       "0          pos      8  fan actor singer especially gackt first discov...\n",
       "1          pos      8  great movie everyone see play like dean koontz...\n",
       "2          pos     10  overlooked 80 soundtrack imagine john travolta...\n",
       "3          pos     10  opinion guy thing hilarious witty sexy romanti...\n",
       "4          pos      8  turkish bath sequence film noir located new yo...\n",
       "...        ...    ...                                                ...\n",
       "9994       neg      4  alicia silverstone pre clueless play modern da...\n",
       "9995       neg      1  wish could give movie zero even lower sadly de...\n",
       "9996       pos      8  put carla shoe overworked unappreciated admini...\n",
       "9997       pos     10  star trek fan long remember announced planning...\n",
       "9998       neg      4  franco rossi 1985 six hour italian mini series...\n",
       "\n",
       "[9999 rows x 3 columns]"
      ]
     },
     "execution_count": 30,
     "metadata": {},
     "output_type": "execute_result"
    }
   ],
   "source": [
    "# make a copy of the balanced data\n",
    "processed_data = balanced_data.copy()\n",
    "\n",
    "# Iteratively run the processing pipeline on every entry of content\n",
    "for i in range(len(balanced_data)):\n",
    "    processed_data.loc[i, 'Content'] = text_processing_pipeline(processed_data.loc[i, 'Content'], \"<br />\", num_num_df['string_removal'])\n",
    "processed_data"
   ]
  },
  {
   "cell_type": "markdown",
   "id": "09035598",
   "metadata": {},
   "source": [
    "the following algorithm is used to check if the text has all being processed."
   ]
  },
  {
   "cell_type": "code",
   "execution_count": 31,
   "id": "5742c4f6",
   "metadata": {},
   "outputs": [
    {
     "name": "stdout",
     "output_type": "stream",
     "text": [
      "Text processing success\n"
     ]
    }
   ],
   "source": [
    "# Check the success of text processing\n",
    "success_count = 0\n",
    "for original_text, processed_text in zip(balanced_data['Content'], processed_data['Content']):\n",
    "\n",
    "    if original_text == processed_text:\n",
    "        print(\"Text processing failed\")\n",
    "    else:\n",
    "        success_count +=1\n",
    "if success_count == len(processed_data['Content']):\n",
    "    print(\"Text processing success\")"
   ]
  },
  {
   "cell_type": "markdown",
   "id": "4d8c0968",
   "metadata": {},
   "source": [
    "<h3 id=\"2.1.3\">2.3 Vocabulary statistic</h3>"
   ]
  },
  {
   "cell_type": "markdown",
   "id": "dcc1218c",
   "metadata": {},
   "source": [
    "<h4>lexical analysis:</h4>"
   ]
  },
  {
   "cell_type": "markdown",
   "id": "8c2419fb",
   "metadata": {},
   "source": [
    "Lexical Diversity is calculated using the equation below. It measure of how diverse the vocabulary used in the positive and negative reviews by examining the ratio of unique words to the total number of words in the text."
   ]
  },
  {
   "cell_type": "markdown",
   "id": "420bd208",
   "metadata": {},
   "source": [
    "$$\n",
    "\\text{Lexical Diversity} = \\frac{\\text{Number of Unique Words}}{\\text{Total Number of Words}}\n",
    "$$\n"
   ]
  },
  {
   "cell_type": "code",
   "execution_count": 32,
   "id": "daa11de5",
   "metadata": {},
   "outputs": [],
   "source": [
    "# Separate the data based on sentiment\n",
    "positive_data = processed_data[processed_data['Sentiment'] == 'pos']\n",
    "negative_data = processed_data[processed_data['Sentiment'] == 'neg']"
   ]
  },
  {
   "cell_type": "code",
   "execution_count": 33,
   "id": "42dc478d",
   "metadata": {},
   "outputs": [],
   "source": [
    "# Helper function to calculate the lexical diversity\n",
    "def calculate_lexical_diversity(text):\n",
    "    all_words = nltk.word_tokenize(text)\n",
    "    total_words = len(all_words)\n",
    "    unique_words = len(set(all_words))\n",
    "    lexical_diversity = unique_words / total_words\n",
    "    return lexical_diversity"
   ]
  },
  {
   "cell_type": "code",
   "execution_count": 34,
   "id": "c638af41",
   "metadata": {},
   "outputs": [
    {
     "name": "stdout",
     "output_type": "stream",
     "text": [
      "Lexical Diversity (Positive Sentiment): 0.05554318517591492\n",
      "Lexical Diversity (Negative Sentiment): 0.05585468885814881\n"
     ]
    }
   ],
   "source": [
    "pos_lexical_diversity = calculate_lexical_diversity(' '.join(positive_data[\"Content\"]))\n",
    "neg_lexical_diversity = calculate_lexical_diversity(' '.join(negative_data[\"Content\"]))\n",
    "\n",
    "print(\"Lexical Diversity (Positive Sentiment):\", pos_lexical_diversity)\n",
    "print(\"Lexical Diversity (Negative Sentiment):\", neg_lexical_diversity)"
   ]
  },
  {
   "cell_type": "markdown",
   "id": "041f6294",
   "metadata": {},
   "source": [
    "Based on the analysis above, both datasets has similar lexical diversity."
   ]
  },
  {
   "cell_type": "markdown",
   "id": "88bc0793",
   "metadata": {},
   "source": [
    "<h4>frequency distribution</h4>"
   ]
  },
  {
   "cell_type": "markdown",
   "id": "00e75ea1",
   "metadata": {},
   "source": [
    "Checking the most common words and frequency distribution after tokenizing, lemmatizing and stopwords removal:"
   ]
  },
  {
   "cell_type": "code",
   "execution_count": 35,
   "id": "4de5bd36",
   "metadata": {},
   "outputs": [
    {
     "data": {
      "image/png": "[encoded data removed]",
      "text/plain": [
       "<Figure size 1200x600 with 2 Axes>"
      ]
     },
     "metadata": {},
     "output_type": "display_data"
    }
   ],
   "source": [
    "# Tokenize the words in the positive_data[\"Content\"] column\n",
    "positive_words = nltk.word_tokenize(' '.join(positive_data[\"Content\"]))\n",
    "positive_freq_dist = FreqDist(positive_words)\n",
    "positive_common_words = positive_freq_dist.most_common(15)\n",
    "positive_words, positive_frequencies = zip(*positive_common_words)\n",
    "\n",
    "# Tokenize the words in the negative_data[\"Content\"] column\n",
    "negative_words = nltk.word_tokenize(' '.join(negative_data[\"Content\"]))\n",
    "negative_freq_dist = FreqDist(negative_words)\n",
    "negative_common_words = negative_freq_dist.most_common(15)\n",
    "negative_words, negative_frequencies = zip(*negative_common_words)\n",
    "\n",
    "# Create subplots\n",
    "fig, (ax1, ax2) = plt.subplots(1, 2, figsize=(12, 6))\n",
    "\n",
    "# Plot for positive sentiments\n",
    "ax1.bar(positive_words, positive_frequencies)\n",
    "ax1.set_xlabel('Words')\n",
    "ax1.set_ylabel('Frequency')\n",
    "ax1.set_title('Top 15 Most Common Words (Positive Sentiment)')\n",
    "ax1.tick_params(axis='x', rotation=45)\n",
    "\n",
    "# Plot for negative sentiments\n",
    "ax2.bar(negative_words, negative_frequencies)\n",
    "ax2.set_xlabel('Words')\n",
    "ax2.set_ylabel('Frequency')\n",
    "ax2.set_title('Top 15 Most Common Words (Negative Sentiment)')\n",
    "ax2.tick_params(axis='x', rotation=45)\n",
    "\n",
    "# Adjust the layout and display the plot\n",
    "plt.tight_layout()\n",
    "plt.show()"
   ]
  },
  {
   "cell_type": "markdown",
   "id": "f3637a71",
   "metadata": {},
   "source": [
    "From above, the most common occurance of words are film and movie. <b>Most</b> of the common words in both sentiment review dataset have a <b>neutral connotation</b>. For the top 15 most commonly used words, <b>two words</b> (good, great) in the positive sentiment data set have a <b>positive connotation</b> while there is only <b>one word</b> in the negative sentiment data set has a <b>negative connotation</b>. It is interesting to see that one word (good) with string positive connotation are present in the negative sentiment dataset. Assuming the dataset is labbeled correctly, this could be due to the <b>problem of negation</b>"
   ]
  },
  {
   "cell_type": "markdown",
   "id": "85140591",
   "metadata": {},
   "source": [
    "A word cloud is generated to show the distribution of the words"
   ]
  },
  {
   "cell_type": "code",
   "execution_count": 36,
   "id": "d26ab69a",
   "metadata": {},
   "outputs": [
    {
     "data": {
      "image/png": "[encoded data removed]",
      "text/plain": [
       "<Figure size 1200x600 with 2 Axes>"
      ]
     },
     "metadata": {},
     "output_type": "display_data"
    }
   ],
   "source": [
    "# Generate word cloud for positive sentiments\n",
    "positive_wordcloud = WordCloud(width=800, height=400, background_color='white',colormap='inferno').generate(' '.join(positive_words))\n",
    "\n",
    "# Generate word cloud for negative sentiments\n",
    "negative_wordcloud = WordCloud(width=800, height=400, background_color='white',colormap='viridis').generate(' '.join(negative_words))\n",
    "\n",
    "# Create subplots\n",
    "fig, (ax1, ax2) = plt.subplots(1, 2, figsize=(12, 6))\n",
    "\n",
    "# Plot for positive sentiments\n",
    "ax1.imshow(positive_wordcloud, interpolation='bilinear')\n",
    "ax1.set_title('Word Cloud (Positive Sentiment)')\n",
    "ax1.axis('off')\n",
    "\n",
    "# Plot for negative sentiments\n",
    "ax2.imshow(negative_wordcloud, interpolation='bilinear')\n",
    "ax2.set_title('Word Cloud (Negative Sentiment)')\n",
    "ax2.axis('off')\n",
    "\n",
    "# Adjust the layout and display the plot\n",
    "plt.tight_layout()\n",
    "plt.show()"
   ]
  },
  {
   "cell_type": "markdown",
   "id": "388c3d82",
   "metadata": {},
   "source": [
    "<h3 id=\"2.2\">2.2 Baseline Performance</h3>"
   ]
  },
  {
   "cell_type": "markdown",
   "id": "8a518117",
   "metadata": {},
   "source": [
    "Evaluation matrix:"
   ]
  },
  {
   "cell_type": "code",
   "execution_count": 11,
   "id": "dcd76a46",
   "metadata": {},
   "outputs": [],
   "source": [
    "from sklearn.metrics import mean_squared_error\n",
    "\n",
    "def evaluation(y_true, y_pred):\n",
    "    # Calculate accuracy\n",
    "    accuracy = (y_true == y_pred).mean()\n",
    "\n",
    "    # Construct confusion matrix\n",
    "    confusion_matrix = pd.crosstab(y_true, y_pred, rownames=['Actual'], colnames=['Predicted'])\n",
    "\n",
    "    # Calculate precision, recall, and F1 score\n",
    "    precision = precision_score(y_true, y_pred, average='macro', zero_division=1)\n",
    "    recall = recall_score(y_true, y_pred, average='macro')\n",
    "    f1 = f1_score(y_true, y_pred, average='macro')\n",
    "\n",
    "    # Calculate mean squared error\n",
    "    mse = mean_squared_error(y_true, y_pred)\n",
    "\n",
    "    # Print the evaluation metrics\n",
    "    print(\"Accuracy:\", accuracy)\n",
    "    print(\"=\" * 50)\n",
    "    print(\"Confusion Matrix:\\n\", confusion_matrix)\n",
    "    print(\"=\" * 50)\n",
    "    print(\"Precision:\", precision)\n",
    "    print(\"=\" * 50)\n",
    "    print(\"Recall:\", recall)\n",
    "    print(\"=\" * 50)\n",
    "    print(\"F1 Score:\", f1)\n",
    "    print(\"=\" * 50)\n",
    "    print(\"Mean Squared Error:\", mse)\n",
    "\n",
    "    return accuracy, confusion_matrix, precision, recall, f1, mse\n"
   ]
  },
  {
   "cell_type": "code",
   "execution_count": 38,
   "id": "5adb4775",
   "metadata": {},
   "outputs": [],
   "source": [
    "# Predicting sentiment base on the content, thus X (features) is the content and y (target variable) is the sentiment\n",
    "X = processed_data['Content']\n",
    "y = processed_data['Sentiment']"
   ]
  },
  {
   "cell_type": "code",
   "execution_count": 39,
   "id": "d89a2edb",
   "metadata": {},
   "outputs": [],
   "source": [
    "# Split data into training and testing data with a test size of 0.2\n",
    "X_train, X_test, y_train, y_test = train_test_split(X, y, test_size=0.2, random_state=42)"
   ]
  },
  {
   "cell_type": "code",
   "execution_count": 40,
   "id": "b51c4f55",
   "metadata": {},
   "outputs": [],
   "source": [
    "# Save in testing and training data in a new dataframe\n",
    "train_data = pd.DataFrame({'Content': X_train, 'Sentiment': y_train})\n",
    "test_data = pd.DataFrame({'Content': X_test, 'Sentiment': y_test})"
   ]
  },
  {
   "cell_type": "markdown",
   "id": "62c63bbd",
   "metadata": {},
   "source": [
    "To achieve consistency, data is saved in the csv file"
   ]
  },
  {
   "cell_type": "code",
   "execution_count": 41,
   "id": "cc57732a",
   "metadata": {},
   "outputs": [],
   "source": [
    "# Save data in csv file\n",
    "train_data.to_csv('train_data.csv', index=False)\n",
    "test_data.to_csv('test_data.csv', index=False)"
   ]
  },
  {
   "cell_type": "code",
   "execution_count": 4,
   "id": "21db385e",
   "metadata": {},
   "outputs": [],
   "source": [
    "train_data = pd.read_csv('train_data.csv')\n",
    "test_data = pd.read_csv('test_data.csv')"
   ]
  },
  {
   "cell_type": "markdown",
   "id": "1e032673",
   "metadata": {},
   "source": [
    "Training and running the model RNN"
   ]
  },
  {
   "cell_type": "code",
   "execution_count": null,
   "id": "0abe232e",
   "metadata": {},
   "outputs": [],
   "source": [
    "# Load the training data\n",
    "train_data = pd.read_csv('train_data.csv')\n",
    "\n",
    "# Extract the content and sentiment columns\n",
    "content = train_data['Content'].tolist()\n",
    "sentiment = train_data['Sentiment'].tolist()\n",
    "\n",
    "# Split the data into training and validation sets\n",
    "X_train, X_val, y_train, y_val = train_test_split(content, sentiment, test_size=0.2, random_state=42)\n",
    "\n",
    "# Tokenize the text data\n",
    "tokenizer = Tokenizer()\n",
    "tokenizer.fit_on_texts(X_train)\n",
    "\n",
    "# Convert text to sequences\n",
    "X_train_sequences = tokenizer.texts_to_sequences(X_train)\n",
    "X_val_sequences = tokenizer.texts_to_sequences(X_val)\n",
    "\n",
    "# Pad sequences to have consistent length\n",
    "max_sequence_length = max(max(len(seq) for seq in X_train_sequences), max(len(seq) for seq in X_val_sequences))\n",
    "X_train_padded = pad_sequences(X_train_sequences, maxlen=max_sequence_length, padding='post')\n",
    "X_val_padded = pad_sequences(X_val_sequences, maxlen=max_sequence_length, padding='post')\n",
    "\n",
    "# Convert sentiment labels to numeric\n",
    "sentiment_mapping = {'pos': 1, 'neg': 0}\n",
    "y_train_numeric = np.array([sentiment_mapping[sent] for sent in y_train])\n",
    "y_val_numeric = np.array([sentiment_mapping[sent] for sent in y_val])\n",
    "\n",
    "# Build the RNN model\n",
    "model = Sequential()\n",
    "model.add(Embedding(len(tokenizer.word_index) + 1, 200, input_length=max_sequence_length))\n",
    "model.add(LSTM(256))\n",
    "model.add(Dropout(0.2)) # add drop out\n",
    "model.add(Dense(1, activation='sigmoid'))\n",
    "\n",
    "# Compile the model\n",
    "model.compile(optimizer='adam', loss='binary_crossentropy', metrics=['accuracy'])\n",
    "\n",
    "# Train the model\n",
    "model.fit(X_train_padded, y_train_numeric, validation_data=(X_val_padded, y_val_numeric), epochs=5, batch_size=64)"
   ]
  },
  {
   "cell_type": "code",
   "execution_count": null,
   "id": "cb0b8e4a",
   "metadata": {},
   "outputs": [],
   "source": [
    "# Load the test data\n",
    "test_data = pd.read_csv('test_data.csv')\n",
    "\n",
    "# Extract the content and sentiment columns\n",
    "content_test = test_data['Content'].tolist()\n",
    "sentiment_test = test_data['Sentiment'].tolist()\n",
    "\n",
    "# Tokenize the test data\n",
    "test_sequences = tokenizer.texts_to_sequences(content_test)\n",
    "\n",
    "# Pad sequences\n",
    "test_sequences_padded = pad_sequences(test_sequences, maxlen=max_sequence_length, padding='post')\n",
    "\n",
    "# Convert sentiment labels to numeric\n",
    "y_test_numeric = np.array([sentiment_mapping[sent] for sent in sentiment_test])\n",
    "\n",
    "# Evaluate the model on the test data\n",
    "y_pred_prob = model.predict(test_sequences_padded)\n",
    "y_pred = (y_pred_prob > 0.5).astype(int)\n",
    "y_pred = y_pred.flatten()  # Flatten the predictions to match the shape of y_test_numeric\n",
    "\n",
    "# Call the evaluation function\n",
    "accuracy_RNN, confusion_matrix_RNN, precision_RNN, recall_RNN, f1_RNN, mse_RNN=evaluation(y_test_numeric, y_pred)"
   ]
  },
  {
   "cell_type": "markdown",
   "id": "43313892",
   "metadata": {},
   "source": [
    "Naive Bayes classifier"
   ]
  },
  {
   "cell_type": "code",
   "execution_count": 44,
   "id": "261d3880",
   "metadata": {},
   "outputs": [],
   "source": [
    "# Following code is self written \n",
    "# Load the training data\n",
    "train_data = pd.read_csv('train_data.csv')\n",
    "\n",
    "# Extract the content and sentiment columns\n",
    "content = train_data['Content'].tolist()\n",
    "sentiment = train_data['Sentiment'].tolist()\n",
    "\n",
    "# Split the data into training and validation sets\n",
    "X_train, X_val, y_train, y_val = train_test_split(content, sentiment, test_size=0.2, random_state=42)\n",
    "\n",
    "# Create a TF-IDF vectorizer\n",
    "vectorizer = TfidfVectorizer()\n",
    "\n",
    "# Vectorize the content data\n",
    "X_train_vectorized = vectorizer.fit_transform(X_train)\n",
    "X_val_vectorized = vectorizer.transform(X_val)\n",
    "\n",
    "# Train a Naive Bayes classifier\n",
    "model = MultinomialNB()\n",
    "model.fit(X_train_vectorized, y_train)\n",
    "\n",
    "# Make predictions on the validation set\n",
    "val_predictions = model.predict(X_val_vectorized)"
   ]
  },
  {
   "cell_type": "code",
   "execution_count": 45,
   "id": "a089388c",
   "metadata": {},
   "outputs": [
    {
     "name": "stdout",
     "output_type": "stream",
     "text": [
      "Accuracy: 0.845625\n",
      "==================================================\n",
      "Confusion Matrix:\n",
      " Predicted    0    1\n",
      "Actual             \n",
      "0          693  115\n",
      "1          132  660\n",
      "==================================================\n",
      "Precision: 0.8458064516129031\n",
      "==================================================\n",
      "Recall: 0.845503300330033\n",
      "==================================================\n",
      "F1 Score: 0.8455593023751119\n",
      "==================================================\n",
      "Mean Squared Error: 0.154375\n"
     ]
    }
   ],
   "source": [
    "# Convert sentiment labels to numeric\n",
    "y_val_numeric = np.array([sentiment_mapping[sent] for sent in y_val])\n",
    "val_predictions_numeric = np.array([sentiment_mapping[sent] for sent in val_predictions])\n",
    "\n",
    "# Calculate the accuracy\n",
    "accuracy = accuracy_score(y_val_numeric, val_predictions_numeric)\n",
    "\n",
    "# Print the evaluation metrics\n",
    "accuracy_NB, confusion_matrix_NB, precision_NB, recall_NB, f1_NB, mse_NB = evaluation(y_val_numeric, val_predictions_numeric)"
   ]
  },
  {
   "cell_type": "markdown",
   "id": "d447c68e",
   "metadata": {},
   "source": [
    "SVM"
   ]
  },
  {
   "cell_type": "code",
   "execution_count": null,
   "id": "d2093f38",
   "metadata": {},
   "outputs": [],
   "source": [
    "# Load the training data\n",
    "train_data = pd.read_csv('train_data.csv')\n",
    "\n",
    "# Extract the content and sentiment columns\n",
    "content = train_data['Content'].tolist()\n",
    "sentiment = train_data['Sentiment'].tolist()\n",
    "\n",
    "# Split the data into training and validation sets\n",
    "X_train, X_val, y_train, y_val = train_test_split(content, sentiment, test_size=0.2, random_state=42)\n",
    "\n",
    "# Create a TF-IDF vectorizer\n",
    "vectorizer = TfidfVectorizer()\n",
    "\n",
    "# Vectorize the content data\n",
    "X_train_vectorized = vectorizer.fit_transform(X_train)\n",
    "X_val_vectorized = vectorizer.transform(X_val)\n",
    "\n",
    "# Train an SVM classifier\n",
    "model = SVC()\n",
    "model.fit(X_train_vectorized, y_train)\n",
    "\n",
    "# Make predictions on the validation set\n",
    "val_predictions = model.predict(X_val_vectorized)"
   ]
  },
  {
   "cell_type": "code",
   "execution_count": 47,
   "id": "f407491d",
   "metadata": {},
   "outputs": [
    {
     "name": "stdout",
     "output_type": "stream",
     "text": [
      "Accuracy: 0.87375\n",
      "==================================================\n",
      "Confusion Matrix:\n",
      " Predicted    0    1\n",
      "Actual             \n",
      "0          684  124\n",
      "1           78  714\n",
      "==================================================\n",
      "Precision: 0.8748332174468645\n",
      "==================================================\n",
      "Recall: 0.874024902490249\n",
      "==================================================\n",
      "F1 Score: 0.8737055996248679\n",
      "==================================================\n",
      "Mean Squared Error: 0.12625\n",
      "Validation Accuracy:\n"
     ]
    }
   ],
   "source": [
    "# Convert string labels to numeric format\n",
    "label_encoder = LabelEncoder()\n",
    "y_val_numeric = label_encoder.fit_transform(y_val)\n",
    "val_predictions_numeric = label_encoder.transform(val_predictions)\n",
    "\n",
    "# Calculate accuracy\n",
    "accuracy = accuracy_score(y_val_numeric, val_predictions_numeric)\n",
    "\n",
    "# Print the evaluation metrics\n",
    "accuracy_SVM, confusion_matrix_SVM, precision_SVM, recall_SVM, f1_SVM, mse_SVM=evaluation(y_val_numeric, val_predictions_numeric)\n",
    "\n",
    "print(\"Validation Accuracy:\" )"
   ]
  },
  {
   "cell_type": "markdown",
   "id": "f5d243fd",
   "metadata": {},
   "source": [
    "Logistic Regression (Bag of word)"
   ]
  },
  {
   "cell_type": "code",
   "execution_count": 6,
   "id": "bd853bd3",
   "metadata": {},
   "outputs": [],
   "source": [
    "from sklearn.preprocessing import StandardScaler"
   ]
  },
  {
   "cell_type": "code",
   "execution_count": 9,
   "id": "1ad8738d",
   "metadata": {},
   "outputs": [],
   "source": [
    "# Extract the content and sentiment columns\n",
    "content = train_data['Content'].tolist()\n",
    "sentiment = train_data['Sentiment'].tolist()\n",
    "\n",
    "# Split the data into training and validation sets\n",
    "X_train, X_val, y_train, y_val = train_test_split(content, sentiment, test_size=0.2, random_state=42)\n",
    "\n",
    "# Create a CountVectorizer\n",
    "vectorizer = CountVectorizer()\n",
    "\n",
    "# Vectorize the content data\n",
    "X_train_vectorized = vectorizer.fit_transform(X_train)\n",
    "X_val_vectorized = vectorizer.transform(X_val)\n",
    "\n",
    "# Scale the vectorized data\n",
    "scaler = StandardScaler(with_mean=False)\n",
    "X_train_scaled = scaler.fit_transform(X_train_vectorized)\n",
    "X_val_scaled = scaler.transform(X_val_vectorized)\n",
    "\n",
    "# Train a Logistic Regression classifier\n",
    "model = LogisticRegression(max_iter=1000)\n",
    "model.fit(X_train_vectorized, y_train)\n",
    "\n",
    "# Make predictions on the validation set\n",
    "val_predictions = model.predict(X_val_vectorized)"
   ]
  },
  {
   "cell_type": "code",
   "execution_count": 12,
   "id": "799f8087",
   "metadata": {},
   "outputs": [
    {
     "name": "stdout",
     "output_type": "stream",
     "text": [
      "Accuracy: 0.8625\n",
      "==================================================\n",
      "Confusion Matrix:\n",
      " Predicted    0    1\n",
      "Actual             \n",
      "0          689  119\n",
      "1          101  691\n",
      "==================================================\n",
      "Precision: 0.8626191592436319\n",
      "==================================================\n",
      "Recall: 0.8625987598759877\n",
      "==================================================\n",
      "F1 Score: 0.8624997851559143\n",
      "==================================================\n",
      "Mean Squared Error: 0.1375\n"
     ]
    }
   ],
   "source": [
    "# Convert string labels to numeric format\n",
    "label_encoder = LabelEncoder()\n",
    "y_val_numeric = label_encoder.fit_transform(y_val)\n",
    "val_predictions_numeric = label_encoder.transform(val_predictions)\n",
    "\n",
    "# Calculate accuracy\n",
    "accuracy = accuracy_score(y_val_numeric, val_predictions_numeric)\n",
    "\n",
    "# Print the evaluation metrics\n",
    "accuracy_BoW, confusion_matrix_BoW, precision_BoW, recall_BoW, f1_BoW, mse_BoW=evaluation(y_val_numeric, val_predictions_numeric)"
   ]
  },
  {
   "cell_type": "code",
   "execution_count": 13,
   "id": "45029dd8",
   "metadata": {},
   "outputs": [],
   "source": [
    "from sklearn.model_selection import cross_val_score\n",
    "from sklearn.linear_model import LogisticRegressionCV\n",
    "from sklearn.feature_extraction.text import CountVectorizer\n",
    "from sklearn.model_selection import train_test_split\n",
    "\n",
    "# Extract the content and sentiment columns\n",
    "content = train_data['Content'].tolist()\n",
    "sentiment = train_data['Sentiment'].tolist()\n",
    "\n",
    "# Split the data into training and validation sets\n",
    "X_train, X_val, y_train, y_val = train_test_split(content, sentiment, test_size=0.2, random_state=42)\n",
    "\n",
    "# Create a CountVectorizer\n",
    "vectorizer = CountVectorizer()\n",
    "\n",
    "# Vectorize the content data\n",
    "X_train_vectorized = vectorizer.fit_transform(X_train)\n",
    "X_val_vectorized = vectorizer.transform(X_val)\n",
    "\n",
    "# Apply cross-validation to find the best regularization parameter\n",
    "model = LogisticRegressionCV(penalty='l2', solver='lbfgs', cv=5, max_iter=1000)\n",
    "model.fit(X_train_vectorized, y_train)\n",
    "\n",
    "# Make predictions on the validation set\n",
    "val_predictions = model.predict(X_val_vectorized)"
   ]
  },
  {
   "cell_type": "code",
   "execution_count": 14,
   "id": "4f4cf43c",
   "metadata": {},
   "outputs": [
    {
     "name": "stdout",
     "output_type": "stream",
     "text": [
      "Accuracy: 0.866875\n",
      "==================================================\n",
      "Confusion Matrix:\n",
      " Predicted    0    1\n",
      "Actual             \n",
      "0          698  110\n",
      "1          103  689\n",
      "==================================================\n",
      "Precision: 0.8668693232333176\n",
      "==================================================\n",
      "Recall: 0.8669054405440544\n",
      "==================================================\n",
      "F1 Score: 0.8668707877085173\n",
      "==================================================\n",
      "Mean Squared Error: 0.133125\n"
     ]
    }
   ],
   "source": [
    "# Convert string labels to numeric format\n",
    "label_encoder = LabelEncoder()\n",
    "y_val_numeric = label_encoder.fit_transform(y_val)\n",
    "val_predictions_numeric = label_encoder.transform(val_predictions)\n",
    "\n",
    "# Calculate accuracy\n",
    "accuracy = accuracy_score(y_val_numeric, val_predictions_numeric)\n",
    "\n",
    "# Print the evaluation metrics\n",
    "accuracy_LR, confusion_matrix_LR, precision_LR, recall_LR, f1_LR, mse_LR=evaluation(y_val_numeric, val_predictions_numeric)"
   ]
  },
  {
   "cell_type": "markdown",
   "id": "bce1904e",
   "metadata": {},
   "source": [
    "BERT"
   ]
  },
  {
   "cell_type": "code",
   "execution_count": 16,
   "id": "24ad6fa5",
   "metadata": {},
   "outputs": [],
   "source": [
    "from transformers import AutoTokenizer, AutoModelForSequenceClassification\n",
    "\n",
    "tokenizer = AutoTokenizer.from_pretrained('textattack/bert-base-uncased-imdb')\n",
    "model = AutoModelForSequenceClassification.from_pretrained('textattack/bert-base-uncased-imdb')"
   ]
  },
  {
   "cell_type": "code",
   "execution_count": 17,
   "id": "e1cf4d45",
   "metadata": {},
   "outputs": [],
   "source": [
    "test_data = pd.read_csv('test_data.csv')\n",
    "content_test = test_data['Content'].tolist()\n",
    "sentiment_test = test_data['Sentiment'].tolist()"
   ]
  },
  {
   "cell_type": "code",
   "execution_count": 18,
   "id": "7c54cb24",
   "metadata": {},
   "outputs": [],
   "source": [
    "# Initialize empty lists for predictions and evaluation metrics\n",
    "predictions = []\n",
    "y_true = []"
   ]
  },
  {
   "cell_type": "code",
   "execution_count": null,
   "id": "c1297e77",
   "metadata": {},
   "outputs": [],
   "source": [
    "# Iterate over the test data\n",
    "for content, sentiment in zip(content_test, sentiment_test):\n",
    "    # Encode the content using the tokenizer\n",
    "    tokens = tokenizer.encode_plus(content, add_special_tokens=True, padding='max_length', max_length=128, truncation=True, return_tensors='pt')\n",
    "    input_ids = tokens['input_ids']\n",
    "    attention_mask = tokens['attention_mask']\n",
    "\n",
    "    with torch.no_grad():\n",
    "        outputs = model(input_ids, attention_mask=attention_mask)\n",
    "\n",
    "    prediction = outputs.logits.argmax(dim=1).item()\n",
    "\n",
    "    # Append the prediction and true label to the lists\n",
    "    predictions.append(prediction)"
   ]
  },
  {
   "cell_type": "code",
   "execution_count": null,
   "id": "addb9af5",
   "metadata": {},
   "outputs": [],
   "source": [
    "# Initialize the LabelEncoder\n",
    "label_encoder = LabelEncoder()\n",
    "\n",
    "# Convert labels from strings to numerical values\n",
    "sentiment_encoded = label_encoder.fit_transform(sentiment_test)\n",
    "\n",
    "# Convert the lists to numpy arrays\n",
    "y_pred = np.array(predictions)\n",
    "y_true = np.array(sentiment_encoded)  # Use the encoded labels instead of sentiment_test"
   ]
  },
  {
   "cell_type": "code",
   "execution_count": null,
   "id": "ac96222d",
   "metadata": {},
   "outputs": [],
   "source": [
    "# Call the evaluation function\n",
    "accuracy_BERT, confusion_matrix_BERT, precision_BERT, recall_BERT, f1_BERT, mse_BERT = evaluation(y_true, y_pred)"
   ]
  },
  {
   "cell_type": "code",
   "execution_count": null,
   "id": "543836ff",
   "metadata": {},
   "outputs": [],
   "source": [
    "# Create a list of model names\n",
    "models = ['Naive Bayes', 'SVM', 'BoW', 'Logistic Regression', 'BERT']\n",
    "\n",
    "# Create a list of evaluation metrics\n",
    "accuracy_scores = [accuracy_NB, accuracy_SVM, accuracy_BoW, accuracy_LR, accuracy_BERT]\n",
    "precision_scores = [precision_NB, precision_SVM, precision_BoW, precision_LR, precision_BERT]\n",
    "recall_scores = [recall_NB, recall_SVM, recall_BoW, recall_LR, recall_BERT]\n",
    "f1_scores = [f1_NB, f1_SVM, f1_BoW, f1_LR, f1_BERT]\n",
    "mse_scores = [mse_NB, mse_SVM, mse_BoW, mse_LR, mse_BERT]\n",
    "\n",
    "# Set the width of each bar\n",
    "bar_width = 0.15\n",
    "\n",
    "# Set the position of each bar on the x-axis\n",
    "r1 = np.arange(len(models))\n",
    "r2 = [x + bar_width for x in r1]\n",
    "r3 = [x + bar_width for x in r2]\n",
    "r4 = [x + bar_width for x in r3]\n",
    "r5 = [x + bar_width for x in r4]\n",
    "\n",
    "# Plot the grouped bar plot\n",
    "plt.bar(r1, accuracy_scores, color='b', width=bar_width, label='Accuracy')\n",
    "plt.bar(r2, precision_scores, color='g', width=bar_width, label='Precision')\n",
    "plt.bar(r3, recall_scores, color='r', width=bar_width, label='Recall')\n",
    "plt.bar(r4, f1_scores, color='orange', width=bar_width, label='F1-score')\n",
    "plt.bar(r5, mse_scores, color='purple', width=bar_width, label='MSE')\n",
    "\n",
    "# Add x-axis ticks and labels\n",
    "plt.xlabel('Models')\n",
    "plt.ylabel('Scores')\n",
    "plt.xticks([r + bar_width * 2 for r in range(len(models))], models)\n",
    "plt.title('Comparison of Evaluation Metrics for Different Models')\n",
    "\n",
    "# Add a legend\n",
    "plt.legend()\n",
    "\n",
    "# Display the plot\n",
    "plt.show()"
   ]
  },
  {
   "cell_type": "markdown",
   "id": "2858395e",
   "metadata": {},
   "source": [
    "<h2 id=\"Conc\">3. Conclusion</h2>"
   ]
  },
  {
   "cell_type": "markdown",
   "id": "8554b794",
   "metadata": {},
   "source": [
    "<h3 id=\"3.1\">3.1 Evaluation</h3>"
   ]
  },
  {
   "cell_type": "markdown",
   "id": "23567172",
   "metadata": {},
   "source": []
  },
  {
   "cell_type": "markdown",
   "id": "501320bf",
   "metadata": {},
   "source": [
    "<h3 id=\"3.2\">3.2 Project Evaluation and Summary</h3>"
   ]
  },
  {
   "cell_type": "markdown",
   "id": "7822f2ec",
   "metadata": {},
   "source": []
  }
 ],
 "metadata": {
  "kernelspec": {
   "display_name": "Python 3 (ipykernel)",
   "language": "python",
   "name": "python3"
  },
  "language_info": {
   "codemirror_mode": {
    "name": "ipython",
    "version": 3
   },
   "file_extension": ".py",
   "mimetype": "text/x-python",
   "name": "python",
   "nbconvert_exporter": "python",
   "pygments_lexer": "ipython3",
   "version": "3.10.11"
  }
 },
 "nbformat": 4,
 "nbformat_minor": 5
}

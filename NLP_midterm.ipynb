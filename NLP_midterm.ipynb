{
 "cells": [
  {
   "cell_type": "markdown",
   "id": "04aefc8d",
   "metadata": {},
   "source": [
    "<center>\n",
    "    <b><h1> Couserwork Assignment: Text Classification</h1></b>\n",
    "</center>"
   ]
  },
  {
   "cell_type": "markdown",
   "id": "d4d3c79a",
   "metadata": {},
   "source": [
    "<center>\n",
    "    <h3>University of London</h3>\n",
    "</center>"
   ]
  },
  {
   "cell_type": "markdown",
   "id": "4850a4fc",
   "metadata": {},
   "source": [
    "<center>\n",
    "    <h3>BSc in Computer Science</h3>\n",
    "</center>"
   ]
  },
  {
   "cell_type": "markdown",
   "id": "41c3cb96",
   "metadata": {},
   "source": [
    "<center>\n",
    "    <h3>Natural Language Processing</h3>\n",
    "</center>"
   ]
  },
  {
   "cell_type": "markdown",
   "id": "c2fbe0bc",
   "metadata": {},
   "source": [
    "<div style=\"page-break-after: always;\"></div>"
   ]
  },
  {
   "cell_type": "markdown",
   "id": "36069138",
   "metadata": {},
   "source": [
    "<h1> Table of Content</h1>"
   ]
  },
  {
   "cell_type": "markdown",
   "id": "04b0acbe",
   "metadata": {},
   "source": [
    "<style>\n",
    "ul {\n",
    "    font-size: 20px;\n",
    "}\n",
    "\n",
    "ul ul {\n",
    "    font-size: 15px;\n",
    "}\n",
    "</style>\n",
    "\n",
    "<ul>\n",
    "    <li>\n",
    "        <a href=\"#intro\">1. Introduction</a>\n",
    "        <ul>\n",
    "            <li><a href=\"#1.1\">1.1 Problem Area</a></li>\n",
    "            <li><a href=\"#1.2\">1.2 Objectives</a></li>\n",
    "        </ul>\n",
    "    </li>\n",
    "    <li>\n",
    "        <a href=\"#implementation\">2. Implementation</a>\n",
    "        <ul>\n",
    "            <li><a href=\"#2.1\">2.1 Processing</a></li>\n",
    "            <ul>\n",
    "                <li><a href=\"#2.1.1\">2.1.1 Data Extraction and Cleaning</a></li>\n",
    "                <li><a href=\"#2.1.2\">2.2.2 Prelimary Data Exploration and Data Cleaning</a></li>\n",
    "                <li><a href=\"#2.1.3\">2.3.3 Vocabulary statistic</a></li>\n",
    "            </ul>\n",
    "            <li><a href=\"#2.2\">2.2 Baseline performance</a></li>\n",
    "        </ul>\n",
    "    </li>\n",
    "    <li>\n",
    "        <a href=\"#section3\">Section 3</a>\n",
    "        <ul>\n",
    "            <li><a href=\"#subsection3.1\">Subsection 3.1</a></li>\n",
    "            <li><a href=\"#subsection3.2\">Subsection 3.2</a></li>\n",
    "        </ul>\n",
    "    </li>\n",
    "</ul>\n"
   ]
  },
  {
   "cell_type": "markdown",
   "id": "e6f79f63",
   "metadata": {},
   "source": [
    "<div style=\"page-break-after: always;\"></div>"
   ]
  },
  {
   "cell_type": "markdown",
   "id": "b291f5f6",
   "metadata": {},
   "source": [
    "<h2 id=\"intro\">1. Introduction</h2>\n",
    "<h3 id=\"1.1\">1.1 Problem area</h3>"
   ]
  },
  {
   "cell_type": "code",
   "execution_count": null,
   "id": "a464044f",
   "metadata": {},
   "outputs": [],
   "source": []
  },
  {
   "cell_type": "markdown",
   "id": "4deb4a98",
   "metadata": {},
   "source": [
    "<h2 id=\"implementation\">2. Implementation</h2>\n",
    "<h3 id=\"2.1\">2.1 Processing</h3>\n",
    "<h3 id=\"2.1.1\">2.1.1 Data extraction</h3>"
   ]
  },
  {
   "cell_type": "markdown",
   "id": "183cf50c",
   "metadata": {},
   "source": [
    "Data will be extracted and stored locally. To extract the data required for the Natural Language Processing, some libraries were imported."
   ]
  },
  {
   "cell_type": "code",
   "execution_count": 45,
   "id": "660ef232",
   "metadata": {},
   "outputs": [],
   "source": [
    "# Import library needed for data analysis\n",
    "\n",
    "# os is used for handling the system\n",
    "import os\n",
    "\n",
    "# random for randomly selecting the data\n",
    "import random\n",
    "\n",
    "# pandas for storing and handling the data in data frame\n",
    "import pandas as pd\n",
    "\n",
    "# matplotlib for visualising the data\n",
    "import matplotlib.pyplot as plt\n",
    "\n",
    "# Regular expression handling\n",
    "import re\n",
    "\n",
    "# Numpy for calculation\n",
    "import numpy as np\n",
    "\n",
    "# NLTK for natural language processing\n",
    "import nltk\n",
    "from nltk.corpus import stopwords #stop words removal\n",
    "from nltk.stem import WordNetLemmatizer #replace words with similar meaning\n",
    "from nltk.tokenize import word_tokenize #tokenizing the string\n",
    "from nltk import ne_chunk\n",
    "from nltk.tree import Tree\n",
    "from nltk.collocations import BigramCollocationFinder #collation calculation\n",
    "from nltk.metrics import BigramAssocMeasures #collation calculation\n",
    "from nltk.probability import FreqDist #distribution calculation\n",
    "\n",
    "from tensorflow.keras.preprocessing.text import Tokenizer\n",
    "from tensorflow.keras.preprocessing.sequence import pad_sequences\n",
    "from tensorflow.keras.models import Sequential\n",
    "from tensorflow.keras.layers import Embedding, LSTM, Dense\n",
    "\n",
    "# wordcould display\n",
    "from wordcloud import WordCloud\n",
    "\n",
    "# spliting of data into test and train dataset\n",
    "from sklearn.model_selection import train_test_split\n",
    "\n",
    "# library for BERT model\n",
    "import torch\n",
    "from transformers import BertTokenizer, BertForSequenceClassification"
   ]
  },
  {
   "cell_type": "markdown",
   "id": "02267cf9",
   "metadata": {},
   "source": [
    "The location of the data file is specified to extract the data"
   ]
  },
  {
   "cell_type": "code",
   "execution_count": 2,
   "id": "4a6e8796",
   "metadata": {},
   "outputs": [],
   "source": [
    "# Path to the folders\n",
    "pos_folder = r'C:\\Users\\xjie\\Documents\\SIM\\Y3S2\\nlp\\aclImdb\\train\\pos'\n",
    "neg_folder = r'C:\\Users\\xjie\\Documents\\SIM\\Y3S2\\nlp\\aclImdb\\train\\neg'"
   ]
  },
  {
   "cell_type": "markdown",
   "id": "0d0f5c3c",
   "metadata": {},
   "source": [
    "<b>Format of data:</b> As the data obtained is in the form of text document stored in positive and negative sentiment folder with each individual file name as the rating and the ID, a file counter is needed to check for the length of the data"
   ]
  },
  {
   "cell_type": "code",
   "execution_count": 3,
   "id": "c1a8a66f",
   "metadata": {},
   "outputs": [],
   "source": [
    "# Helper functions;\n",
    "\n",
    "# Count the number of files in the data folder\n",
    "def count_files(folder_path):\n",
    "    if not os.path.isdir(folder_path):\n",
    "        print(f\"Error: {folder_path} is not a valid directory.\")\n",
    "        return\n",
    "\n",
    "    file_count = 0\n",
    "\n",
    "    for _, _, files in os.walk(folder_path):\n",
    "        file_count += len(files)\n",
    "\n",
    "    return file_count"
   ]
  },
  {
   "cell_type": "markdown",
   "id": "eb3cde10",
   "metadata": {},
   "source": [
    "Using the function as define above, the number of the files in both positive and negative folder are obtained: "
   ]
  },
  {
   "cell_type": "code",
   "execution_count": 4,
   "id": "c9f13f2b",
   "metadata": {},
   "outputs": [
    {
     "name": "stdout",
     "output_type": "stream",
     "text": [
      "The number of files in positive data folder is: 12500\n"
     ]
    }
   ],
   "source": [
    "# Positive data file avaliable\n",
    "file_count = count_files(pos_folder)\n",
    "print(f\"The number of files in positive data folder is: {file_count}\")"
   ]
  },
  {
   "cell_type": "code",
   "execution_count": 5,
   "id": "b7d30de9",
   "metadata": {},
   "outputs": [
    {
     "name": "stdout",
     "output_type": "stream",
     "text": [
      "The number of files in nagtive data folder is: 12500\n"
     ]
    }
   ],
   "source": [
    "# Negative data file avaliable \n",
    "file_count = count_files(neg_folder)\n",
    "print(f\"The number of files in nagtive data folder is: {file_count}\")"
   ]
  },
  {
   "cell_type": "markdown",
   "id": "2f9ac5c6",
   "metadata": {},
   "source": [
    "As this training data set is <b>too big</b> for the computer, only <b>5000 data</b> from positive and negative folder respectively will be selected to make the program runs faster. Then these data will be further seperated into test and training sets."
   ]
  },
  {
   "cell_type": "markdown",
   "id": "d1cc4b11",
   "metadata": {},
   "source": [
    "Some helper functions are defined to extract the information and data from the data folder:"
   ]
  },
  {
   "cell_type": "code",
   "execution_count": 6,
   "id": "69e9fc37",
   "metadata": {},
   "outputs": [],
   "source": [
    "# Helper functions\n",
    "\n",
    "# Function to extract unique ID and rating from file name\n",
    "def extract_info(file_name):\n",
    "    id_rating = file_name.split('.')[0]\n",
    "    unique_id, rating = id_rating.split('_')\n",
    "    return int(unique_id), int(rating)\n",
    "\n",
    "# Function to extract the data from the file based on the aclImdb data structure\n",
    "def extract_files(folder, num_files, sentiment):\n",
    "    files = random.sample(os.listdir(folder), num_files)\n",
    "    data = pd.DataFrame(columns=['Sentiment', 'Unique ID', 'Rating', 'Content'])\n",
    "    \n",
    "    for file_name in files:\n",
    "        file_path = os.path.join(folder, file_name)\n",
    "        with open(file_path, 'r', encoding='utf-8') as file:\n",
    "            content = file.read() # read content for the review\n",
    "        unique_id, rating = extract_info(file_name)  # get ID and rating from file name\n",
    "        file_data = pd.DataFrame({'Sentiment': [sentiment], 'Unique ID': [unique_id], 'Rating': [rating], 'Content': [content]})\n",
    "        data = pd.concat([data, file_data], ignore_index=True)\n",
    "    \n",
    "    return data"
   ]
  },
  {
   "cell_type": "code",
   "execution_count": 7,
   "id": "d91458ce",
   "metadata": {},
   "outputs": [
    {
     "data": {
      "text/html": [
       "<div>\n",
       "<style scoped>\n",
       "    .dataframe tbody tr th:only-of-type {\n",
       "        vertical-align: middle;\n",
       "    }\n",
       "\n",
       "    .dataframe tbody tr th {\n",
       "        vertical-align: top;\n",
       "    }\n",
       "\n",
       "    .dataframe thead th {\n",
       "        text-align: right;\n",
       "    }\n",
       "</style>\n",
       "<table border=\"1\" class=\"dataframe\">\n",
       "  <thead>\n",
       "    <tr style=\"text-align: right;\">\n",
       "      <th></th>\n",
       "      <th>Sentiment</th>\n",
       "      <th>Unique ID</th>\n",
       "      <th>Rating</th>\n",
       "      <th>Content</th>\n",
       "    </tr>\n",
       "  </thead>\n",
       "  <tbody>\n",
       "    <tr>\n",
       "      <th>0</th>\n",
       "      <td>pos</td>\n",
       "      <td>2251</td>\n",
       "      <td>8</td>\n",
       "      <td>I find Alan Jacobs review very accurate concer...</td>\n",
       "    </tr>\n",
       "    <tr>\n",
       "      <th>1</th>\n",
       "      <td>pos</td>\n",
       "      <td>6172</td>\n",
       "      <td>7</td>\n",
       "      <td>It is wonderful to watch Roshan Seth (the stri...</td>\n",
       "    </tr>\n",
       "    <tr>\n",
       "      <th>2</th>\n",
       "      <td>pos</td>\n",
       "      <td>6788</td>\n",
       "      <td>9</td>\n",
       "      <td>The story and the characters were some of the ...</td>\n",
       "    </tr>\n",
       "    <tr>\n",
       "      <th>3</th>\n",
       "      <td>pos</td>\n",
       "      <td>6032</td>\n",
       "      <td>10</td>\n",
       "      <td>Antonioni really showed some 'cojones' when he...</td>\n",
       "    </tr>\n",
       "    <tr>\n",
       "      <th>4</th>\n",
       "      <td>pos</td>\n",
       "      <td>8686</td>\n",
       "      <td>8</td>\n",
       "      <td>The second official episode of the \"Columbo\" s...</td>\n",
       "    </tr>\n",
       "  </tbody>\n",
       "</table>\n",
       "</div>"
      ],
      "text/plain": [
       "  Sentiment Unique ID Rating   \n",
       "0       pos      2251      8  \\\n",
       "1       pos      6172      7   \n",
       "2       pos      6788      9   \n",
       "3       pos      6032     10   \n",
       "4       pos      8686      8   \n",
       "\n",
       "                                             Content  \n",
       "0  I find Alan Jacobs review very accurate concer...  \n",
       "1  It is wonderful to watch Roshan Seth (the stri...  \n",
       "2  The story and the characters were some of the ...  \n",
       "3  Antonioni really showed some 'cojones' when he...  \n",
       "4  The second official episode of the \"Columbo\" s...  "
      ]
     },
     "execution_count": 7,
     "metadata": {},
     "output_type": "execute_result"
    }
   ],
   "source": [
    "# Extracting data\n",
    "pos_data = extract_files(pos_folder, 1000, 'pos')\n",
    "neg_data = extract_files(neg_folder, 1000, 'neg')\n",
    "\n",
    "# Print the resulting DataFrame\n",
    "raw_data = pd.concat([pos_data, neg_data], ignore_index=True)\n",
    "\n",
    "# Display the start of the data\n",
    "raw_data.head()"
   ]
  },
  {
   "cell_type": "markdown",
   "id": "e1b506f4",
   "metadata": {},
   "source": [
    "<br>"
   ]
  },
  {
   "cell_type": "markdown",
   "id": "18f51fc5",
   "metadata": {},
   "source": [
    "<h3 id=\"2.1.2\">2.1.2 Prelimary Data Exploration and Data Cleaning</h3>"
   ]
  },
  {
   "cell_type": "code",
   "execution_count": 8,
   "id": "6c4edab1",
   "metadata": {},
   "outputs": [
    {
     "data": {
      "text/html": [
       "<div>\n",
       "<style scoped>\n",
       "    .dataframe tbody tr th:only-of-type {\n",
       "        vertical-align: middle;\n",
       "    }\n",
       "\n",
       "    .dataframe tbody tr th {\n",
       "        vertical-align: top;\n",
       "    }\n",
       "\n",
       "    .dataframe thead th {\n",
       "        text-align: right;\n",
       "    }\n",
       "</style>\n",
       "<table border=\"1\" class=\"dataframe\">\n",
       "  <thead>\n",
       "    <tr style=\"text-align: right;\">\n",
       "      <th></th>\n",
       "      <th>Sentiment</th>\n",
       "      <th>Unique ID</th>\n",
       "      <th>Rating</th>\n",
       "      <th>Content</th>\n",
       "    </tr>\n",
       "  </thead>\n",
       "  <tbody>\n",
       "    <tr>\n",
       "      <th>count</th>\n",
       "      <td>2000</td>\n",
       "      <td>2000</td>\n",
       "      <td>2000</td>\n",
       "      <td>2000</td>\n",
       "    </tr>\n",
       "    <tr>\n",
       "      <th>unique</th>\n",
       "      <td>2</td>\n",
       "      <td>1916</td>\n",
       "      <td>8</td>\n",
       "      <td>2000</td>\n",
       "    </tr>\n",
       "    <tr>\n",
       "      <th>top</th>\n",
       "      <td>pos</td>\n",
       "      <td>4337</td>\n",
       "      <td>1</td>\n",
       "      <td>I find Alan Jacobs review very accurate concer...</td>\n",
       "    </tr>\n",
       "    <tr>\n",
       "      <th>freq</th>\n",
       "      <td>1000</td>\n",
       "      <td>2</td>\n",
       "      <td>400</td>\n",
       "      <td>1</td>\n",
       "    </tr>\n",
       "  </tbody>\n",
       "</table>\n",
       "</div>"
      ],
      "text/plain": [
       "       Sentiment  Unique ID  Rating   \n",
       "count       2000       2000    2000  \\\n",
       "unique         2       1916       8   \n",
       "top          pos       4337       1   \n",
       "freq        1000          2     400   \n",
       "\n",
       "                                                  Content  \n",
       "count                                                2000  \n",
       "unique                                               2000  \n",
       "top     I find Alan Jacobs review very accurate concer...  \n",
       "freq                                                    1  "
      ]
     },
     "execution_count": 8,
     "metadata": {},
     "output_type": "execute_result"
    }
   ],
   "source": [
    "# Examining the data\n",
    "raw_data.describe()"
   ]
  },
  {
   "cell_type": "markdown",
   "id": "fcac1535",
   "metadata": {},
   "source": [
    "It was noted that both Unique ID and Content has duplicated values after the extraction as the frequency of the data is not 1. \n",
    "\n",
    "However, it is <b>not ideal</b> for the model to take in repeated reading in the content field as it does not add any more knowlegde to the model. Moreover, the original unique ID also do not provide much information after combining the data from both positive sentiment and negative sentiment.\n",
    "\n",
    "Thus, an algorithm will be implemented to check for these values and handle them."
   ]
  },
  {
   "cell_type": "markdown",
   "id": "2e18134e",
   "metadata": {},
   "source": [
    "<b>For duplicates in Unique ID</b>, as a <b>new ID will be assigned</b> as the index for the data frame, there is <b>no need</b> for the Unique ID from positive sentiment and negative sentiment folder. Thus, the <b>unique ID column will be dropped</b>. "
   ]
  },
  {
   "cell_type": "markdown",
   "id": "c7ff0aa8",
   "metadata": {},
   "source": [
    "<b>For duplicates in content</b>, it will first find the duplicates, then remove the <b>first instance</b> of the duplicates. To ensure the overall dataset remain balanced, it will perform the random selection of data from the original data file again. These two functions will be <b>called recursively</b> until there is <b>no repetition</b> in the dataframe. The cleaned data will be saved in a new data frame."
   ]
  },
  {
   "cell_type": "markdown",
   "id": "eaf405cd",
   "metadata": {},
   "source": [
    "<h4>Removing duplicates and old Unique ID</h4>"
   ]
  },
  {
   "cell_type": "code",
   "execution_count": 9,
   "id": "1a50992f",
   "metadata": {},
   "outputs": [],
   "source": [
    "# Remove unique ID column from the data\n",
    "org_ID_removed_data = raw_data.drop(\"Unique ID\", axis=1)"
   ]
  },
  {
   "cell_type": "code",
   "execution_count": 10,
   "id": "2bafd4f7",
   "metadata": {},
   "outputs": [],
   "source": [
    "# Helper function\n",
    "\n",
    "# Check for repetetion of data\n",
    "def find_duplicates(dataframe, column):\n",
    "    duplicates = dataframe[dataframe[column].duplicated(keep=False)]\n",
    "    duplicates_sorted = duplicates.sort_values(by=column)\n",
    "\n",
    "    if duplicates_sorted.empty:\n",
    "        print(\"No repeated data entry found.\")\n",
    "    else:\n",
    "        print(\"Repeated data entry/entries found in \"+str(column))\n",
    "        duplicates_pairs = duplicates_sorted.groupby(column).apply(lambda x: x.reset_index(drop=True))\n",
    "        duplicates_pairs.reset_index(drop=True, inplace=True)\n",
    "        return duplicates_pairs\n",
    "    \n",
    "# replace duplicates with other values\n",
    "def get_balance_data_with_duplicates(duplicate_content, original_data, pos_folder, neg_folder):\n",
    "    # Remove the first occurrence of unique items in the duplicated content\n",
    "    data_to_remove = duplicate_content.drop_duplicates(subset='Content', keep='first')\n",
    "    org_ID_removed_data = original_data.drop_duplicates(subset='Content', keep='first')\n",
    "\n",
    "    # Count the number of pos and neg entries in 'data_to_remove'\n",
    "    pos_count = data_to_remove[data_to_remove['Sentiment'] == 'pos'].shape[0]\n",
    "    neg_count = data_to_remove[data_to_remove['Sentiment'] == 'neg'].shape[0]\n",
    "\n",
    "    # Add the removed duplicates such that the data is balanced\n",
    "    added_pos_data = extract_files(pos_folder, pos_count, 'pos')\n",
    "    added_neg_data = extract_files(neg_folder, neg_count, 'neg')\n",
    "\n",
    "    # Remove the 'Unique ID' column from added data\n",
    "    added_pos_data.drop(\"Unique ID\", axis=1, inplace=True)\n",
    "    added_neg_data.drop(\"Unique ID\", axis=1, inplace=True)\n",
    "\n",
    "    added_data = pd.concat([added_pos_data, added_neg_data], ignore_index=True)\n",
    "    balanced_data = pd.concat([org_ID_removed_data, added_data], ignore_index=True)\n",
    "\n",
    "    return balanced_data\n",
    "\n",
    "# recursively call the previouse two function untill data is balanced and no repetition\n",
    "def recursive_data_balancing(dataframe, column, pos_folder, neg_folder):\n",
    "    duplicates = find_duplicates(dataframe, column)\n",
    "\n",
    "    if duplicates is None:\n",
    "        print(\"No more duplicates found.\")\n",
    "        return dataframe\n",
    "\n",
    "    # Call get_balance_data_with_duplicates with the duplicate content\n",
    "    balanced_data = get_balance_data_with_duplicates(duplicates, dataframe, pos_folder, neg_folder)\n",
    "\n",
    "    # Recursively check for duplicates\n",
    "    print(\"Recursive call to balance the data.\")\n",
    "    return recursive_data_balancing(balanced_data, column, pos_folder, neg_folder)"
   ]
  },
  {
   "cell_type": "code",
   "execution_count": 11,
   "id": "ab7f46d6",
   "metadata": {},
   "outputs": [
    {
     "name": "stdout",
     "output_type": "stream",
     "text": [
      "No repeated data entry found.\n",
      "No more duplicates found.\n"
     ]
    }
   ],
   "source": [
    "balanced_data = recursive_data_balancing(org_ID_removed_data, 'Content', pos_folder, neg_folder)"
   ]
  },
  {
   "cell_type": "markdown",
   "id": "cdbc7c11",
   "metadata": {},
   "source": [
    "<h4>Simple statistic analysis</h4>"
   ]
  },
  {
   "cell_type": "markdown",
   "id": "cd8c4a31",
   "metadata": {},
   "source": [
    "Besides the ensure balancing and no repetition of data, some other checks were also performed on the dataset"
   ]
  },
  {
   "cell_type": "code",
   "execution_count": 12,
   "id": "c94d8076",
   "metadata": {},
   "outputs": [
    {
     "name": "stdout",
     "output_type": "stream",
     "text": [
      "<class 'pandas.core.frame.DataFrame'>\n",
      "RangeIndex: 2000 entries, 0 to 1999\n",
      "Data columns (total 3 columns):\n",
      " #   Column     Non-Null Count  Dtype \n",
      "---  ------     --------------  ----- \n",
      " 0   Sentiment  2000 non-null   object\n",
      " 1   Rating     2000 non-null   object\n",
      " 2   Content    2000 non-null   object\n",
      "dtypes: object(3)\n",
      "memory usage: 47.0+ KB\n"
     ]
    }
   ],
   "source": [
    "# checking the overall information\n",
    "balanced_data.info()"
   ]
  },
  {
   "cell_type": "code",
   "execution_count": 13,
   "id": "25248cca",
   "metadata": {},
   "outputs": [
    {
     "data": {
      "text/plain": [
       "Sentiment    0\n",
       "Rating       0\n",
       "Content      0\n",
       "dtype: int64"
      ]
     },
     "execution_count": 13,
     "metadata": {},
     "output_type": "execute_result"
    }
   ],
   "source": [
    "# check for null data\n",
    "balanced_data.isnull().sum()"
   ]
  },
  {
   "cell_type": "code",
   "execution_count": 14,
   "id": "4beda128",
   "metadata": {},
   "outputs": [
    {
     "data": {
      "text/plain": [
       "Sentiment       2\n",
       "Rating          8\n",
       "Content      2000\n",
       "dtype: int64"
      ]
     },
     "execution_count": 14,
     "metadata": {},
     "output_type": "execute_result"
    }
   ],
   "source": [
    "# double checking for unique data\n",
    "balanced_data.nunique()"
   ]
  },
  {
   "cell_type": "code",
   "execution_count": 15,
   "id": "c48da5b9",
   "metadata": {},
   "outputs": [
    {
     "name": "stdout",
     "output_type": "stream",
     "text": [
      "Number of entries in 'Sentiment' column: 2000\n",
      "Number of entries in 'Rating' column: 2000\n",
      "Number of entries in 'Content' column: 2000\n"
     ]
    }
   ],
   "source": [
    "# double checking the total number of data entries\n",
    "print(\"Number of entries in 'Sentiment' column:\", balanced_data['Sentiment'].shape[0])\n",
    "print(\"Number of entries in 'Rating' column:\", balanced_data['Rating'].shape[0])\n",
    "print(\"Number of entries in 'Content' column:\", balanced_data['Content'].shape[0])"
   ]
  },
  {
   "cell_type": "code",
   "execution_count": 16,
   "id": "30b92028",
   "metadata": {},
   "outputs": [
    {
     "data": {
      "text/plain": [
       "Sentiment\n",
       "pos    1000\n",
       "neg    1000\n",
       "Name: count, dtype: int64"
      ]
     },
     "execution_count": 16,
     "metadata": {},
     "output_type": "execute_result"
    }
   ],
   "source": [
    "balanced_data['Sentiment'].value_counts()"
   ]
  },
  {
   "cell_type": "code",
   "execution_count": 17,
   "id": "ebb246a5",
   "metadata": {},
   "outputs": [
    {
     "data": {
      "image/png": "[encoded data removed]",
      "text/plain": [
       "<Figure size 1200x600 with 2 Axes>"
      ]
     },
     "metadata": {},
     "output_type": "display_data"
    }
   ],
   "source": [
    "# Plot a grpah to show the distribition of ratings\n",
    "import matplotlib.pyplot as plt\n",
    "\n",
    "# Distribution of Ratings\n",
    "rating_counts = balanced_data['Rating'].value_counts().sort_index()\n",
    "\n",
    "# Distribution of Sentiment\n",
    "sentiment_counts = balanced_data['Sentiment'].value_counts()\n",
    "\n",
    "# Create a figure with two subplots\n",
    "fig, (ax1, ax2) = plt.subplots(1, 2, figsize=(12, 6))\n",
    "\n",
    "# Plot Distribution of Ratings\n",
    "ax1.set_xticks(range(1, 11))\n",
    "ax1.set_xticklabels(range(1, 11))\n",
    "ax1.bar(rating_counts.index, rating_counts.values)\n",
    "ax1.set_xlabel('Rating', fontsize=12)\n",
    "ax1.set_ylabel('Count',  fontsize=12)\n",
    "ax1.set_title('Distribution of Ratings')\n",
    "\n",
    "# Plot Distribution of Sentiment\n",
    "ax2.pie(sentiment_counts.values, \n",
    "        labels=None, \n",
    "        autopct='%1.1f%%', \n",
    "        startangle=90) # no labels, set as 1 decimal place, title the angle by 90 degree\n",
    "ax2.set_title('Distribution of Sentiment')\n",
    "ax2.legend(sentiment_counts.index, loc=\"best\", fontsize=12)\n",
    "\n",
    "# Adjust spacing between subplots\n",
    "plt.tight_layout()\n",
    "\n",
    "# Display the plot\n",
    "plt.show()"
   ]
  },
  {
   "cell_type": "markdown",
   "id": "995507fb",
   "metadata": {},
   "source": [
    "It can be seen that this dataframe contains 10000 with a <b>balanced distribution</b> of positive and negative sentiment data. The <b>most common rating</b> is 1 followed by 10. Both of them are the most frequent term in their sentiment respectively.\n",
    "\n",
    "There is also <b>no null data</b> in all three columns."
   ]
  },
  {
   "cell_type": "markdown",
   "id": "22a8cea9",
   "metadata": {},
   "source": [
    "<b>Collation</b> is obtained using BigramAssocMeasures from nltk to examine the relationship between nearby texts. This is useful to identify negations."
   ]
  },
  {
   "cell_type": "code",
   "execution_count": 21,
   "id": "3dc55566",
   "metadata": {},
   "outputs": [],
   "source": [
    "# Function to calculate collocations in a given text\n",
    "def calculate_collocations(text):\n",
    "    words = nltk.word_tokenize(text)\n",
    "    finder = BigramCollocationFinder.from_words(words)\n",
    "    finder.apply_freq_filter(2)  # Adjust the frequency threshold as needed\n",
    "    collocations = finder.nbest(BigramAssocMeasures.pmi, 10)  \n",
    "    return collocations\n",
    "\n",
    "# Combine the content of balanced_data['Content'] into a single string\n",
    "text = ' '.join(balanced_data['Content'])\n",
    "\n",
    "# Calculate collocations for the combined text\n",
    "collocations = calculate_collocations(text)\n",
    "\n",
    "# Create a DataFrame to store the collocations and frequencies\n",
    "collocations_df = pd.DataFrame(collocations, columns=['Word 1', 'Word 2'])\n",
    "collocations_df['Frequency'] = collocations_df.apply(lambda row: text.count(' '.join(row)), axis=1)\n",
    "\n",
    "# Sort the DataFrame by frequency in descending order\n",
    "collocations_df = collocations_df.sort_values('Frequency', ascending=False).reset_index(drop=True)"
   ]
  },
  {
   "cell_type": "code",
   "execution_count": 22,
   "id": "527252d6",
   "metadata": {},
   "outputs": [
    {
     "data": {
      "text/html": [
       "<div>\n",
       "<style scoped>\n",
       "    .dataframe tbody tr th:only-of-type {\n",
       "        vertical-align: middle;\n",
       "    }\n",
       "\n",
       "    .dataframe tbody tr th {\n",
       "        vertical-align: top;\n",
       "    }\n",
       "\n",
       "    .dataframe thead th {\n",
       "        text-align: right;\n",
       "    }\n",
       "</style>\n",
       "<table border=\"1\" class=\"dataframe\">\n",
       "  <thead>\n",
       "    <tr style=\"text-align: right;\">\n",
       "      <th></th>\n",
       "      <th>Word 1</th>\n",
       "      <th>Word 2</th>\n",
       "      <th>Frequency</th>\n",
       "    </tr>\n",
       "  </thead>\n",
       "  <tbody>\n",
       "    <tr>\n",
       "      <th>0</th>\n",
       "      <td>'De</td>\n",
       "      <td>Grot</td>\n",
       "      <td>2</td>\n",
       "    </tr>\n",
       "    <tr>\n",
       "      <th>1</th>\n",
       "      <td>Annik</td>\n",
       "      <td>Borel</td>\n",
       "      <td>2</td>\n",
       "    </tr>\n",
       "    <tr>\n",
       "      <th>2</th>\n",
       "      <td>Basic</td>\n",
       "      <td>Instinct</td>\n",
       "      <td>2</td>\n",
       "    </tr>\n",
       "    <tr>\n",
       "      <th>3</th>\n",
       "      <td>CAPTAIN</td>\n",
       "      <td>CAREY</td>\n",
       "      <td>2</td>\n",
       "    </tr>\n",
       "    <tr>\n",
       "      <th>4</th>\n",
       "      <td>Chiaki</td>\n",
       "      <td>Kuriyama</td>\n",
       "      <td>2</td>\n",
       "    </tr>\n",
       "    <tr>\n",
       "      <th>5</th>\n",
       "      <td>Clockwork</td>\n",
       "      <td>Orange</td>\n",
       "      <td>2</td>\n",
       "    </tr>\n",
       "    <tr>\n",
       "      <th>6</th>\n",
       "      <td>DIRTY</td>\n",
       "      <td>WORK</td>\n",
       "      <td>2</td>\n",
       "    </tr>\n",
       "    <tr>\n",
       "      <th>7</th>\n",
       "      <td>DOUBLE</td>\n",
       "      <td>EXPOSURE</td>\n",
       "      <td>2</td>\n",
       "    </tr>\n",
       "    <tr>\n",
       "      <th>8</th>\n",
       "      <td>Darling</td>\n",
       "      <td>Clementine</td>\n",
       "      <td>2</td>\n",
       "    </tr>\n",
       "    <tr>\n",
       "      <th>9</th>\n",
       "      <td>Dev</td>\n",
       "      <td>Anand</td>\n",
       "      <td>2</td>\n",
       "    </tr>\n",
       "  </tbody>\n",
       "</table>\n",
       "</div>"
      ],
      "text/plain": [
       "      Word 1      Word 2  Frequency\n",
       "0        'De        Grot          2\n",
       "1      Annik       Borel          2\n",
       "2      Basic    Instinct          2\n",
       "3    CAPTAIN       CAREY          2\n",
       "4     Chiaki    Kuriyama          2\n",
       "5  Clockwork      Orange          2\n",
       "6      DIRTY        WORK          2\n",
       "7     DOUBLE    EXPOSURE          2\n",
       "8    Darling  Clementine          2\n",
       "9        Dev       Anand          2"
      ]
     },
     "execution_count": 22,
     "metadata": {},
     "output_type": "execute_result"
    }
   ],
   "source": [
    "# Display the top 5 collocations with frequencies\n",
    "collocations_df.head(10)"
   ]
  },
  {
   "cell_type": "markdown",
   "id": "aa2749f9",
   "metadata": {},
   "source": [
    "Based on the analysis above, there doesnot seem to be any negations "
   ]
  },
  {
   "cell_type": "markdown",
   "id": "be1b1488",
   "metadata": {},
   "source": [
    "Next, the entries were tokenized to examine the common words used in the reviews using frequency distribution:"
   ]
  },
  {
   "cell_type": "code",
   "execution_count": 23,
   "id": "56654e7c",
   "metadata": {},
   "outputs": [
    {
     "data": {
      "image/png": "[encoded data removed]",
      "text/plain": [
       "<Figure size 1000x600 with 1 Axes>"
      ]
     },
     "metadata": {},
     "output_type": "display_data"
    }
   ],
   "source": [
    "# Tokenize the words in the balanced_data[\"Content\"] column\n",
    "all_words = nltk.word_tokenize(' '.join(balanced_data[\"Content\"]))\n",
    "\n",
    "# Calculate the frequency distribution of words\n",
    "freq_dist = FreqDist(all_words)\n",
    "\n",
    "# Get the 30 most common words\n",
    "most_common_words = freq_dist.most_common(30)\n",
    "\n",
    "# Extract the words and their frequencies\n",
    "words, frequencies = zip(*most_common_words)\n",
    "\n",
    "# Plot the number of occurrences\n",
    "plt.figure(figsize=(10, 6))\n",
    "plt.bar(words, frequencies)\n",
    "plt.xlabel('Words')\n",
    "plt.ylabel('Frequency')\n",
    "plt.title('Top 30 Most Common Words')\n",
    "plt.xticks(rotation=45)\n",
    "plt.show()"
   ]
  },
  {
   "cell_type": "markdown",
   "id": "225d157c",
   "metadata": {},
   "source": [
    "It was noted that most of the common words were <b>punctuation marks</b> (such as \",\", \".\", \"<\" and \">\"), <b>determiners</b> (such as \"the\", \"that\", and \"this\") as well as <b>conjunctions</b> (such as \"and\", \"for\"). Thus a stopwords and punctuation removal is needed to obtain the part of the string that contains the most information. This will be done using the stopwords and punkt from the nltk library.\n",
    "\n",
    "Other common words that are present in the reviews are <b>related to the subject domain</b> (moview review. Some of the examples of these words are \"movie\" and \"film\".\n",
    "\n",
    "It is also noted that besides the common stopwords and words that is related to the subject domain(moview review), there is also another commonly used term <b>\"br\"</b> further analysis of this term will thus be carried out."
   ]
  },
  {
   "cell_type": "markdown",
   "id": "5c5cf3a0",
   "metadata": {},
   "source": [
    "<h4>Cleaning for the use of tags</h4>"
   ]
  },
  {
   "cell_type": "code",
   "execution_count": 24,
   "id": "1f72321d",
   "metadata": {},
   "outputs": [
    {
     "data": {
      "text/html": [
       "<div>\n",
       "<style scoped>\n",
       "    .dataframe tbody tr th:only-of-type {\n",
       "        vertical-align: middle;\n",
       "    }\n",
       "\n",
       "    .dataframe tbody tr th {\n",
       "        vertical-align: top;\n",
       "    }\n",
       "\n",
       "    .dataframe thead th {\n",
       "        text-align: right;\n",
       "    }\n",
       "</style>\n",
       "<table border=\"1\" class=\"dataframe\">\n",
       "  <thead>\n",
       "    <tr style=\"text-align: right;\">\n",
       "      <th></th>\n",
       "      <th>Snippet</th>\n",
       "    </tr>\n",
       "  </thead>\n",
       "  <tbody>\n",
       "    <tr>\n",
       "      <th>0</th>\n",
       "      <td>h and his brother Hyru</td>\n",
       "    </tr>\n",
       "    <tr>\n",
       "      <th>1</th>\n",
       "      <td>d \"fool\".&lt;br /&gt;&lt;br /&gt;I</td>\n",
       "    </tr>\n",
       "    <tr>\n",
       "      <th>3</th>\n",
       "      <td>Hicks...&lt;br /&gt;&lt;br /&gt;T</td>\n",
       "    </tr>\n",
       "    <tr>\n",
       "      <th>5</th>\n",
       "      <td>as that.&lt;br /&gt;&lt;br /&gt;N</td>\n",
       "    </tr>\n",
       "    <tr>\n",
       "      <th>6</th>\n",
       "      <td>&lt;br /&gt;&lt;br /&gt;Human B</td>\n",
       "    </tr>\n",
       "    <tr>\n",
       "      <th>...</th>\n",
       "      <td>...</td>\n",
       "    </tr>\n",
       "    <tr>\n",
       "      <th>1993</th>\n",
       "      <td>y wasted.&lt;br /&gt;&lt;br /&gt;T</td>\n",
       "    </tr>\n",
       "    <tr>\n",
       "      <th>1994</th>\n",
       "      <td>d story? &lt;br /&gt;&lt;br /&gt;T</td>\n",
       "    </tr>\n",
       "    <tr>\n",
       "      <th>1996</th>\n",
       "      <td>a Jolie).&lt;br /&gt;&lt;br /&gt;S</td>\n",
       "    </tr>\n",
       "    <tr>\n",
       "      <th>1998</th>\n",
       "      <td>iarized. &lt;br /&gt;&lt;br /&gt;W</td>\n",
       "    </tr>\n",
       "    <tr>\n",
       "      <th>1999</th>\n",
       "      <td>dubious.&lt;br /&gt;&lt;br /&gt;I</td>\n",
       "    </tr>\n",
       "  </tbody>\n",
       "</table>\n",
       "<p>1401 rows × 1 columns</p>\n",
       "</div>"
      ],
      "text/plain": [
       "                     Snippet\n",
       "0     h and his brother Hyru\n",
       "1     d \"fool\".<br /><br />I\n",
       "3      Hicks...<br /><br />T\n",
       "5      as that.<br /><br />N\n",
       "6        <br /><br />Human B\n",
       "...                      ...\n",
       "1993  y wasted.<br /><br />T\n",
       "1994  d story? <br /><br />T\n",
       "1996  a Jolie).<br /><br />S\n",
       "1998  iarized. <br /><br />W\n",
       "1999   dubious.<br /><br />I\n",
       "\n",
       "[1401 rows x 1 columns]"
      ]
     },
     "execution_count": 24,
     "metadata": {},
     "output_type": "execute_result"
    }
   ],
   "source": [
    "# Filter the entries containing \"br\"\n",
    "filtered_data = balanced_data[balanced_data[\"Content\"].str.contains(\"br\")]\n",
    "\n",
    "# Create a copy of the filtered DataFrame\n",
    "filtered_data = filtered_data.copy()\n",
    "\n",
    "# Extract the substring with 10 characters before and after \"br\"\n",
    "filtered_data.loc[:, \"Snippet\"] = filtered_data[\"Content\"].str.extract(r\"(.{0,10}br.{0,10})\")\n",
    "\n",
    "# Display the filtered data\n",
    "filtered_data[[\"Snippet\"]]"
   ]
  },
  {
   "cell_type": "markdown",
   "id": "787843b3",
   "metadata": {},
   "source": [
    "It is noticed that the dataset uses &lt;br /&gt; tag as a part of the content. This sytex is mostly used to symbolise a change of line. Thus, the &lt;br /&gt; will be removed as part of the stopwords removal. "
   ]
  },
  {
   "cell_type": "markdown",
   "id": "87b714a1",
   "metadata": {},
   "source": [
    "To prevent other issues related to tags, a further check is conducted to verify other usage of < /> and <>"
   ]
  },
  {
   "cell_type": "code",
   "execution_count": 25,
   "id": "08baba42",
   "metadata": {},
   "outputs": [
    {
     "name": "stdout",
     "output_type": "stream",
     "text": [
      "<br />\n"
     ]
    }
   ],
   "source": [
    "# Filter the entries containing \"<\" and \"/>\"\n",
    "data_tags = balanced_data[balanced_data[\"Content\"].str.contains(\"<.*?/>\")]\n",
    "\n",
    "# Create a copy of the tags\n",
    "data_tags = data_tags.copy()\n",
    "\n",
    "# Extracting the substrings starts with \"<\" and end with \"/>\"\n",
    "data_tags[\"tags\"] = data_tags[\"Content\"].str.extract(r\"(<.*?/>)\")\n",
    "\n",
    "# Get the unique entries of tags\n",
    "tags = data_tags[\"tags\"].unique()\n",
    "\n",
    "# Print the unique entries\n",
    "for tag in tags:\n",
    "    print(tag)"
   ]
  },
  {
   "cell_type": "markdown",
   "id": "fee52208",
   "metadata": {},
   "source": [
    "The above algorithm confirms that the <b>only tag used</b> is &lt;br /&gt;\n",
    "\n",
    "Thus, the data need to take not of the use of  &lt;br /&gt; when carry out stopwords removal"
   ]
  },
  {
   "cell_type": "code",
   "execution_count": 26,
   "id": "a6944f80",
   "metadata": {},
   "outputs": [
    {
     "name": "stdout",
     "output_type": "stream",
     "text": [
      "Occurrences of specific punctuation marks:\n",
      "/: 8345\n",
      "<: 8387\n",
      ">: 8394\n"
     ]
    }
   ],
   "source": [
    "# Get the occurrences of some punctuation marks\n",
    "punctuation_occurrences = {\n",
    "    \"/\": freq_dist[\"/\"],\n",
    "    \"<\": freq_dist[\"<\"],\n",
    "    \">\": freq_dist[\">\"]\n",
    "}\n",
    "\n",
    "# Display the occurrences of punctuation marks\n",
    "print(\"Occurrences of specific punctuation marks:\")\n",
    "for punctuation, count in punctuation_occurrences.items():\n",
    "    print(f\"{punctuation}: {count}\")"
   ]
  },
  {
   "cell_type": "markdown",
   "id": "7acf12d9",
   "metadata": {},
   "source": [
    "From the algorithm above, it was noticed that the use of < and > were largely the same while the use of / is slightly higher.\n",
    "\n",
    "This could indicate <b>other usage</b> of \"/\" besides tags."
   ]
  },
  {
   "cell_type": "code",
   "execution_count": 27,
   "id": "ab581e9d",
   "metadata": {
    "scrolled": true
   },
   "outputs": [],
   "source": [
    "content_column = balanced_data['Content']\n",
    "\n",
    "# Define the categories\n",
    "categories = {\n",
    "    'num/num': r'(?P<before>\\d+(\\.\\d+)?)/(?P<after>\\d+(\\.\\d+)?)',\n",
    "    'num/special': r'(?P<before>\\d+(\\.\\d+)?)/(?P<after>[\\W\\t])',\n",
    "    'special/num': r'(?P<before>[\\W\\t])/(?P<after>\\d+(\\.\\d+)?)',\n",
    "    'num/alpha': r'(?P<before>\\d+(\\.\\d+)?)/(?P<after>[a-zA-Z])',\n",
    "    'alpha/num': r'(?P<before>[a-zA-Z])/(?P<after>\\d+(\\.\\d+)?)',\n",
    "    'alpha/special': r'(?P<before>[a-zA-Z])/(?P<after>[^\\w\\s\\t])',\n",
    "    'special/alpha': r'(?P<before>[^\\w\\s\\t])/(?P<after>[a-zA-Z\\s])',\n",
    "    'alpha/alpha': r'(?P<before>[a-zA-Z])/(?P<after>[a-zA-Z])',\n",
    "    'special/special': r'(?P<before>[^\\w\\s\\t])/(?P<after>[^\\w\\s\\t])',\n",
    "    'space/alpha': r'(?P<before>\\s)/(?P<after>[a-zA-Z])',\n",
    "    'alpha/space': r'(?P<before>[a-zA-Z])/(?P<after>\\s)',\n",
    "    'space/space': r'(?P<before>[\\s\\t])/(?P<after>[\\s\\t])'\n",
    "}\n",
    "\n",
    "# Categorize the strings and extract characters before and after \"/\"\n",
    "results = []\n",
    "for category, pattern in categories.items():\n",
    "    matches = content_column.str.extractall(pattern)\n",
    "    if not matches.empty:\n",
    "        matches = matches.reset_index()\n",
    "        matches = matches.rename(columns={'level_0': 'index'})\n",
    "        matches = matches[['index', 'before', 'after']]\n",
    "        matches['category'] = category\n",
    "        results.append(matches)\n",
    "\n",
    "# Combine the results into a single dataframe\n",
    "if results:\n",
    "    combined_results = pd.concat(results)\n",
    "    combined_results = combined_results.reset_index(drop=True)  # Reset the index\n",
    "else:\n",
    "    combined_results = pd.DataFrame()\n"
   ]
  },
  {
   "cell_type": "markdown",
   "id": "7ccb9797",
   "metadata": {},
   "source": [
    "The frequency of the isage can be determined using the code below:"
   ]
  },
  {
   "cell_type": "code",
   "execution_count": 28,
   "id": "ca012b5a",
   "metadata": {},
   "outputs": [
    {
     "name": "stdout",
     "output_type": "stream",
     "text": [
      "          category  count\n",
      "0      alpha/alpha    291\n",
      "1          num/num    191\n",
      "2      space/space     19\n",
      "3      alpha/space      7\n",
      "4  special/special      4\n",
      "5        alpha/num      3\n",
      "6    special/alpha      2\n",
      "7    alpha/special      1\n"
     ]
    }
   ],
   "source": [
    "category_counts = combined_results['category'].value_counts().reset_index()\n",
    "category_counts.columns = ['category', 'count']\n",
    "category_counts = category_counts.sort_values('count', ascending=False)\n",
    "print(category_counts)"
   ]
  },
  {
   "cell_type": "markdown",
   "id": "4f60368b",
   "metadata": {},
   "source": [
    "With that in mind, the original data was re-examined and realised the most common usage of\"/\" is for choices between two words, while the second most common usage is for rating (ie. 8.5/10). "
   ]
  },
  {
   "cell_type": "markdown",
   "id": "2b28619f",
   "metadata": {},
   "source": [
    "Thus, when carrying out text processing pipelines later, <b>&lt;br /&gt; will be removed </b>as it is tag that provides little insights about the text. Moreover, numbers around \"/\" in the form of <b>number / number</b> will also be <b>removed</b>. "
   ]
  },
  {
   "cell_type": "code",
   "execution_count": 29,
   "id": "edefe824",
   "metadata": {},
   "outputs": [
    {
     "data": {
      "text/html": [
       "<div>\n",
       "<style scoped>\n",
       "    .dataframe tbody tr th:only-of-type {\n",
       "        vertical-align: middle;\n",
       "    }\n",
       "\n",
       "    .dataframe tbody tr th {\n",
       "        vertical-align: top;\n",
       "    }\n",
       "\n",
       "    .dataframe thead th {\n",
       "        text-align: right;\n",
       "    }\n",
       "</style>\n",
       "<table border=\"1\" class=\"dataframe\">\n",
       "  <thead>\n",
       "    <tr style=\"text-align: right;\">\n",
       "      <th></th>\n",
       "      <th>index</th>\n",
       "      <th>before</th>\n",
       "      <th>after</th>\n",
       "      <th>category</th>\n",
       "      <th>string_removal</th>\n",
       "    </tr>\n",
       "  </thead>\n",
       "  <tbody>\n",
       "    <tr>\n",
       "      <th>0</th>\n",
       "      <td>7</td>\n",
       "      <td>10</td>\n",
       "      <td>10</td>\n",
       "      <td>num/num</td>\n",
       "      <td>10/10</td>\n",
       "    </tr>\n",
       "    <tr>\n",
       "      <th>1</th>\n",
       "      <td>11</td>\n",
       "      <td>10</td>\n",
       "      <td>10</td>\n",
       "      <td>num/num</td>\n",
       "      <td>10/10</td>\n",
       "    </tr>\n",
       "    <tr>\n",
       "      <th>2</th>\n",
       "      <td>25</td>\n",
       "      <td>8.5</td>\n",
       "      <td>10</td>\n",
       "      <td>num/num</td>\n",
       "      <td>8.5/10</td>\n",
       "    </tr>\n",
       "    <tr>\n",
       "      <th>3</th>\n",
       "      <td>40</td>\n",
       "      <td>6</td>\n",
       "      <td>7</td>\n",
       "      <td>num/num</td>\n",
       "      <td>6/7</td>\n",
       "    </tr>\n",
       "    <tr>\n",
       "      <th>4</th>\n",
       "      <td>59</td>\n",
       "      <td>8</td>\n",
       "      <td>10</td>\n",
       "      <td>num/num</td>\n",
       "      <td>8/10</td>\n",
       "    </tr>\n",
       "    <tr>\n",
       "      <th>...</th>\n",
       "      <td>...</td>\n",
       "      <td>...</td>\n",
       "      <td>...</td>\n",
       "      <td>...</td>\n",
       "      <td>...</td>\n",
       "    </tr>\n",
       "    <tr>\n",
       "      <th>186</th>\n",
       "      <td>1982</td>\n",
       "      <td>10</td>\n",
       "      <td>10</td>\n",
       "      <td>num/num</td>\n",
       "      <td>10/10</td>\n",
       "    </tr>\n",
       "    <tr>\n",
       "      <th>187</th>\n",
       "      <td>1983</td>\n",
       "      <td>2</td>\n",
       "      <td>10</td>\n",
       "      <td>num/num</td>\n",
       "      <td>2/10</td>\n",
       "    </tr>\n",
       "    <tr>\n",
       "      <th>188</th>\n",
       "      <td>1983</td>\n",
       "      <td>1</td>\n",
       "      <td>10</td>\n",
       "      <td>num/num</td>\n",
       "      <td>1/10</td>\n",
       "    </tr>\n",
       "    <tr>\n",
       "      <th>189</th>\n",
       "      <td>1990</td>\n",
       "      <td>4</td>\n",
       "      <td>10</td>\n",
       "      <td>num/num</td>\n",
       "      <td>4/10</td>\n",
       "    </tr>\n",
       "    <tr>\n",
       "      <th>190</th>\n",
       "      <td>1996</td>\n",
       "      <td>4</td>\n",
       "      <td>10</td>\n",
       "      <td>num/num</td>\n",
       "      <td>4/10</td>\n",
       "    </tr>\n",
       "  </tbody>\n",
       "</table>\n",
       "<p>191 rows × 5 columns</p>\n",
       "</div>"
      ],
      "text/plain": [
       "     index before after category string_removal\n",
       "0        7     10    10  num/num          10/10\n",
       "1       11     10    10  num/num          10/10\n",
       "2       25    8.5    10  num/num         8.5/10\n",
       "3       40      6     7  num/num            6/7\n",
       "4       59      8    10  num/num           8/10\n",
       "..     ...    ...   ...      ...            ...\n",
       "186   1982     10    10  num/num          10/10\n",
       "187   1983      2    10  num/num           2/10\n",
       "188   1983      1    10  num/num           1/10\n",
       "189   1990      4    10  num/num           4/10\n",
       "190   1996      4    10  num/num           4/10\n",
       "\n",
       "[191 rows x 5 columns]"
      ]
     },
     "execution_count": 29,
     "metadata": {},
     "output_type": "execute_result"
    }
   ],
   "source": [
    "num_num_df = combined_results[combined_results['category'] == 'num/num'].copy()\n",
    "num_num_df['string_removal'] = num_num_df['before'] + '/' + num_num_df['after']\n",
    "num_num_df"
   ]
  },
  {
   "cell_type": "markdown",
   "id": "0fdca10b",
   "metadata": {},
   "source": [
    "<h4>Tokenization and lemmatization</h4>"
   ]
  },
  {
   "cell_type": "code",
   "execution_count": 30,
   "id": "086195c6",
   "metadata": {},
   "outputs": [
    {
     "data": {
      "text/plain": [
       "True"
      ]
     },
     "execution_count": 30,
     "metadata": {},
     "output_type": "execute_result"
    }
   ],
   "source": [
    "# Download NLTK resources\n",
    "nltk.download('punkt', quiet=True)\n",
    "nltk.download('stopwords', quiet=True)\n",
    "nltk.download('wordnet', quiet=True)\n",
    "nltk.download('words', quiet=True)\n",
    "nltk.download('maxent_ne_chunker', quiet=True)"
   ]
  },
  {
   "cell_type": "code",
   "execution_count": 31,
   "id": "9a8480ab",
   "metadata": {},
   "outputs": [],
   "source": [
    "def expand_short_forms(word, previous_word):\n",
    "    if word == \"'s\":\n",
    "        # Check if the previous word is a proper noun or named entity\n",
    "        if previous_word[0].isupper() or isinstance(ne_chunk([(previous_word, '')]), Tree):\n",
    "            # Likely indicating possession\n",
    "            return word\n",
    "        else:\n",
    "            # Likely contraction of \"is\"\n",
    "            return \"is\"\n",
    "    elif word == \"n't\":\n",
    "        return \"not\"\n",
    "    else:\n",
    "        return word"
   ]
  },
  {
   "cell_type": "code",
   "execution_count": 32,
   "id": "299b95bb",
   "metadata": {},
   "outputs": [],
   "source": [
    "# Function to preprocess the text\n",
    "def text_processing_pipeline(text, string=None, column=None):\n",
    "    # Replace string entries\n",
    "    if string is not None:\n",
    "        text = text.replace(string, '')\n",
    "\n",
    "    # Remove elements in specified column\n",
    "    if column is not None:\n",
    "        for element in column:\n",
    "            text = text.replace(element, '')\n",
    "    \n",
    "    # Change all text to lower case\n",
    "    text = text.lower()\n",
    "    \n",
    "    # Convert short forms to full format\n",
    "    words = text.split()\n",
    "    expanded_words = [expand_short_forms(word, words[i-1]) if i > 0 else word for i, word in enumerate(words)]\n",
    "    text = ' '.join(expanded_words)\n",
    "\n",
    "    # Remove the punctuations from the text\n",
    "    text = re.sub(r'[^a-z0-9]', ' ', text)\n",
    "\n",
    "    # Tokenization\n",
    "    words = word_tokenize(text)\n",
    "\n",
    "    # Stop Words removal, result stored in words\n",
    "    stop_words = set(stopwords.words('english'))\n",
    "    words = (word for word in words if word not in stop_words)\n",
    "    \n",
    "    # change to synonyms and reduce word form\n",
    "    lemmatizer = WordNetLemmatizer()\n",
    "    words = [lemmatizer.lemmatize(word) for word in words]\n",
    "    # Combine the words back\n",
    "    text = ' '.join(word for word in words)\n",
    "\n",
    "    # Removing spaces before and after the text\n",
    "    text = text.strip()\n",
    "\n",
    "    # Change the spaces with length more than 1 to 1\n",
    "    text = re.sub(r'\\s+', ' ', text)\n",
    "\n",
    "    return text"
   ]
  },
  {
   "cell_type": "code",
   "execution_count": 33,
   "id": "b8f0bf22",
   "metadata": {},
   "outputs": [
    {
     "data": {
      "text/html": [
       "<div>\n",
       "<style scoped>\n",
       "    .dataframe tbody tr th:only-of-type {\n",
       "        vertical-align: middle;\n",
       "    }\n",
       "\n",
       "    .dataframe tbody tr th {\n",
       "        vertical-align: top;\n",
       "    }\n",
       "\n",
       "    .dataframe thead th {\n",
       "        text-align: right;\n",
       "    }\n",
       "</style>\n",
       "<table border=\"1\" class=\"dataframe\">\n",
       "  <thead>\n",
       "    <tr style=\"text-align: right;\">\n",
       "      <th></th>\n",
       "      <th>Sentiment</th>\n",
       "      <th>Rating</th>\n",
       "      <th>Content</th>\n",
       "    </tr>\n",
       "  </thead>\n",
       "  <tbody>\n",
       "    <tr>\n",
       "      <th>0</th>\n",
       "      <td>pos</td>\n",
       "      <td>8</td>\n",
       "      <td>find alan jacob review accurate concerning mov...</td>\n",
       "    </tr>\n",
       "    <tr>\n",
       "      <th>1</th>\n",
       "      <td>pos</td>\n",
       "      <td>7</td>\n",
       "      <td>wonderful watch roshan seth strict father 1992...</td>\n",
       "    </tr>\n",
       "    <tr>\n",
       "      <th>2</th>\n",
       "      <td>pos</td>\n",
       "      <td>9</td>\n",
       "      <td>story character best ever seen graphic good p ...</td>\n",
       "    </tr>\n",
       "    <tr>\n",
       "      <th>3</th>\n",
       "      <td>pos</td>\n",
       "      <td>10</td>\n",
       "      <td>antonioni really showed cojones movie made wen...</td>\n",
       "    </tr>\n",
       "    <tr>\n",
       "      <th>4</th>\n",
       "      <td>pos</td>\n",
       "      <td>8</td>\n",
       "      <td>second official episode columbo series murder ...</td>\n",
       "    </tr>\n",
       "    <tr>\n",
       "      <th>...</th>\n",
       "      <td>...</td>\n",
       "      <td>...</td>\n",
       "      <td>...</td>\n",
       "    </tr>\n",
       "    <tr>\n",
       "      <th>1995</th>\n",
       "      <td>neg</td>\n",
       "      <td>2</td>\n",
       "      <td>casting bone pick david jannsen 38 playing fat...</td>\n",
       "    </tr>\n",
       "    <tr>\n",
       "      <th>1996</th>\n",
       "      <td>neg</td>\n",
       "      <td>4</td>\n",
       "      <td>robot horde start attacking major city stop ma...</td>\n",
       "    </tr>\n",
       "    <tr>\n",
       "      <th>1997</th>\n",
       "      <td>neg</td>\n",
       "      <td>1</td>\n",
       "      <td>yes great performance unfortunately happen con...</td>\n",
       "    </tr>\n",
       "    <tr>\n",
       "      <th>1998</th>\n",
       "      <td>neg</td>\n",
       "      <td>3</td>\n",
       "      <td>badly made poor remake bimalda classic parinee...</td>\n",
       "    </tr>\n",
       "    <tr>\n",
       "      <th>1999</th>\n",
       "      <td>neg</td>\n",
       "      <td>1</td>\n",
       "      <td>ned kelly ledger infamous australian outlaw le...</td>\n",
       "    </tr>\n",
       "  </tbody>\n",
       "</table>\n",
       "<p>2000 rows × 3 columns</p>\n",
       "</div>"
      ],
      "text/plain": [
       "     Sentiment Rating                                            Content\n",
       "0          pos      8  find alan jacob review accurate concerning mov...\n",
       "1          pos      7  wonderful watch roshan seth strict father 1992...\n",
       "2          pos      9  story character best ever seen graphic good p ...\n",
       "3          pos     10  antonioni really showed cojones movie made wen...\n",
       "4          pos      8  second official episode columbo series murder ...\n",
       "...        ...    ...                                                ...\n",
       "1995       neg      2  casting bone pick david jannsen 38 playing fat...\n",
       "1996       neg      4  robot horde start attacking major city stop ma...\n",
       "1997       neg      1  yes great performance unfortunately happen con...\n",
       "1998       neg      3  badly made poor remake bimalda classic parinee...\n",
       "1999       neg      1  ned kelly ledger infamous australian outlaw le...\n",
       "\n",
       "[2000 rows x 3 columns]"
      ]
     },
     "execution_count": 33,
     "metadata": {},
     "output_type": "execute_result"
    }
   ],
   "source": [
    "# make a copy of the balanced data\n",
    "processed_data = balanced_data.copy()\n",
    "\n",
    "# Iteratively run the processing pipeline on every entry of content\n",
    "for i in range(len(balanced_data)):\n",
    "    processed_data.loc[i, 'Content'] = text_processing_pipeline(processed_data.loc[i, 'Content'], \"<br />\", num_num_df['string_removal'])\n",
    "processed_data"
   ]
  },
  {
   "cell_type": "markdown",
   "id": "09035598",
   "metadata": {},
   "source": [
    "the following algorithm is used to check if the text has all being processed."
   ]
  },
  {
   "cell_type": "code",
   "execution_count": 34,
   "id": "5742c4f6",
   "metadata": {},
   "outputs": [
    {
     "name": "stdout",
     "output_type": "stream",
     "text": [
      "Text processing success\n"
     ]
    }
   ],
   "source": [
    "# Check the success of text processing\n",
    "success_count = 0\n",
    "for original_text, processed_text in zip(balanced_data['Content'], processed_data['Content']):\n",
    "\n",
    "    if original_text == processed_text:\n",
    "        print(\"Text processing failed\")\n",
    "    else:\n",
    "        success_count +=1\n",
    "if success_count == len(processed_data['Content']):\n",
    "    print(\"Text processing success\")"
   ]
  },
  {
   "cell_type": "markdown",
   "id": "4d8c0968",
   "metadata": {},
   "source": [
    "<h3 id=\"2.1.3\">2.3 Vocabulary statistic</h3>"
   ]
  },
  {
   "cell_type": "markdown",
   "id": "dcc1218c",
   "metadata": {},
   "source": [
    "<h4>lexical analysis:</h4>"
   ]
  },
  {
   "cell_type": "markdown",
   "id": "8c2419fb",
   "metadata": {},
   "source": [
    "Lexical Diversity is calculated using the equation below. It measure of how diverse the vocabulary used in the positive and negative reviews by examining the ratio of unique words to the total number of words in the text."
   ]
  },
  {
   "cell_type": "markdown",
   "id": "420bd208",
   "metadata": {},
   "source": [
    "$$\n",
    "\\text{Lexical Diversity} = \\frac{\\text{Number of Unique Words}}{\\text{Total Number of Words}}\n",
    "$$\n"
   ]
  },
  {
   "cell_type": "code",
   "execution_count": 35,
   "id": "daa11de5",
   "metadata": {},
   "outputs": [],
   "source": [
    "# Separate the data based on sentiment\n",
    "positive_data = processed_data[processed_data['Sentiment'] == 'pos']\n",
    "negative_data = processed_data[processed_data['Sentiment'] == 'neg']"
   ]
  },
  {
   "cell_type": "code",
   "execution_count": 36,
   "id": "42dc478d",
   "metadata": {},
   "outputs": [],
   "source": [
    "# Helper function to calculate the lexical diversity\n",
    "def calculate_lexical_diversity(text):\n",
    "    all_words = nltk.word_tokenize(text)\n",
    "    total_words = len(all_words)\n",
    "    unique_words = len(set(all_words))\n",
    "    lexical_diversity = unique_words / total_words\n",
    "    return lexical_diversity"
   ]
  },
  {
   "cell_type": "code",
   "execution_count": 37,
   "id": "c638af41",
   "metadata": {},
   "outputs": [
    {
     "name": "stdout",
     "output_type": "stream",
     "text": [
      "Lexical Diversity (Positive Sentiment): 0.1302957571398416\n",
      "Lexical Diversity (Negative Sentiment): 0.1272257203619532\n"
     ]
    }
   ],
   "source": [
    "pos_lexical_diversity = calculate_lexical_diversity(' '.join(positive_data[\"Content\"]))\n",
    "neg_lexical_diversity = calculate_lexical_diversity(' '.join(negative_data[\"Content\"]))\n",
    "\n",
    "print(\"Lexical Diversity (Positive Sentiment):\", pos_lexical_diversity)\n",
    "print(\"Lexical Diversity (Negative Sentiment):\", neg_lexical_diversity)"
   ]
  },
  {
   "cell_type": "markdown",
   "id": "041f6294",
   "metadata": {},
   "source": [
    "Based on the analysis above, both datasets has similar lexical diversity."
   ]
  },
  {
   "cell_type": "markdown",
   "id": "88bc0793",
   "metadata": {},
   "source": [
    "<h4>frequency distribution</h4>"
   ]
  },
  {
   "cell_type": "markdown",
   "id": "00e75ea1",
   "metadata": {},
   "source": [
    "Checking the most common words and frequency distribution after tokenizing, lemmatizing and stopwords removal:"
   ]
  },
  {
   "cell_type": "code",
   "execution_count": 38,
   "id": "4de5bd36",
   "metadata": {},
   "outputs": [
    {
     "data": {
      "image/png": "[encoded data removed]",
      "text/plain": [
       "<Figure size 1200x600 with 2 Axes>"
      ]
     },
     "metadata": {},
     "output_type": "display_data"
    }
   ],
   "source": [
    "# Tokenize the words in the positive_data[\"Content\"] column\n",
    "positive_words = nltk.word_tokenize(' '.join(positive_data[\"Content\"]))\n",
    "positive_freq_dist = FreqDist(positive_words)\n",
    "positive_common_words = positive_freq_dist.most_common(15)\n",
    "positive_words, positive_frequencies = zip(*positive_common_words)\n",
    "\n",
    "# Tokenize the words in the negative_data[\"Content\"] column\n",
    "negative_words = nltk.word_tokenize(' '.join(negative_data[\"Content\"]))\n",
    "negative_freq_dist = FreqDist(negative_words)\n",
    "negative_common_words = negative_freq_dist.most_common(15)\n",
    "negative_words, negative_frequencies = zip(*negative_common_words)\n",
    "\n",
    "# Create subplots\n",
    "fig, (ax1, ax2) = plt.subplots(1, 2, figsize=(12, 6))\n",
    "\n",
    "# Plot for positive sentiments\n",
    "ax1.bar(positive_words, positive_frequencies)\n",
    "ax1.set_xlabel('Words')\n",
    "ax1.set_ylabel('Frequency')\n",
    "ax1.set_title('Top 15 Most Common Words (Positive Sentiment)')\n",
    "ax1.tick_params(axis='x', rotation=45)\n",
    "\n",
    "# Plot for negative sentiments\n",
    "ax2.bar(negative_words, negative_frequencies)\n",
    "ax2.set_xlabel('Words')\n",
    "ax2.set_ylabel('Frequency')\n",
    "ax2.set_title('Top 15 Most Common Words (Negative Sentiment)')\n",
    "ax2.tick_params(axis='x', rotation=45)\n",
    "\n",
    "# Adjust the layout and display the plot\n",
    "plt.tight_layout()\n",
    "plt.show()"
   ]
  },
  {
   "cell_type": "markdown",
   "id": "f3637a71",
   "metadata": {},
   "source": [
    "From above, the most common occurance of words are film and movie. <b>Most</b> of the common words in both sentiment review dataset have a <b>neutral connotation</b>. For the top 15 most commonly used words, <b>two words</b> (good, great) in the positive sentiment data set have a <b>positive connotation</b> while there is only <b>one word</b> in the negative sentiment data set has a <b>negative connotation</b>. It is interesting to see that one word (good) with string positive connotation are present in the negative sentiment dataset. Assuming the dataset is labbeled correctly, this could be due to the <b>problem of negation</b>"
   ]
  },
  {
   "cell_type": "markdown",
   "id": "85140591",
   "metadata": {},
   "source": [
    "A word cloud is generated to show the distribution of the words"
   ]
  },
  {
   "cell_type": "code",
   "execution_count": 39,
   "id": "d26ab69a",
   "metadata": {},
   "outputs": [
    {
     "data": {
      "image/png": "[encoded data removed]",
      "text/plain": [
       "<Figure size 1200x600 with 2 Axes>"
      ]
     },
     "metadata": {},
     "output_type": "display_data"
    }
   ],
   "source": [
    "# Generate word cloud for positive sentiments\n",
    "positive_wordcloud = WordCloud(width=800, height=400, background_color='white',colormap='inferno').generate(' '.join(positive_words))\n",
    "\n",
    "# Generate word cloud for negative sentiments\n",
    "negative_wordcloud = WordCloud(width=800, height=400, background_color='white',colormap='viridis').generate(' '.join(negative_words))\n",
    "\n",
    "# Create subplots\n",
    "fig, (ax1, ax2) = plt.subplots(1, 2, figsize=(12, 6))\n",
    "\n",
    "# Plot for positive sentiments\n",
    "ax1.imshow(positive_wordcloud, interpolation='bilinear')\n",
    "ax1.set_title('Word Cloud (Positive Sentiment)')\n",
    "ax1.axis('off')\n",
    "\n",
    "# Plot for negative sentiments\n",
    "ax2.imshow(negative_wordcloud, interpolation='bilinear')\n",
    "ax2.set_title('Word Cloud (Negative Sentiment)')\n",
    "ax2.axis('off')\n",
    "\n",
    "# Adjust the layout and display the plot\n",
    "plt.tight_layout()\n",
    "plt.show()"
   ]
  },
  {
   "cell_type": "markdown",
   "id": "388c3d82",
   "metadata": {},
   "source": [
    "<h3 id=\"2.2\">2.2 Baseline Performance</h3>"
   ]
  },
  {
   "cell_type": "markdown",
   "id": "8a518117",
   "metadata": {},
   "source": []
  },
  {
   "cell_type": "code",
   "execution_count": 40,
   "id": "5adb4775",
   "metadata": {},
   "outputs": [],
   "source": [
    "# Predicting sentiment base on the content, thus X (features) is the content and y (target variable) is the sentiment\n",
    "X = processed_data['Content']\n",
    "y = processed_data['Sentiment']"
   ]
  },
  {
   "cell_type": "code",
   "execution_count": 41,
   "id": "d89a2edb",
   "metadata": {},
   "outputs": [],
   "source": [
    "# Split data into training and testing data with a test size of 0.2\n",
    "X_train, X_test, y_train, y_test = train_test_split(X, y, test_size=0.2, random_state=42)"
   ]
  },
  {
   "cell_type": "code",
   "execution_count": 42,
   "id": "b51c4f55",
   "metadata": {},
   "outputs": [],
   "source": [
    "# Save in testing and training data in a new dataframe\n",
    "train_data = pd.DataFrame({'Content': X_train, 'Sentiment': y_train})\n",
    "test_data = pd.DataFrame({'Content': X_test, 'Sentiment': y_test})\n"
   ]
  },
  {
   "cell_type": "markdown",
   "id": "62c63bbd",
   "metadata": {},
   "source": [
    "To achieve consistency, data is saved in the csv file"
   ]
  },
  {
   "cell_type": "code",
   "execution_count": 43,
   "id": "cc57732a",
   "metadata": {},
   "outputs": [],
   "source": [
    "# Save data in csv file\n",
    "train_data.to_csv('train_data.csv', index=False)\n",
    "test_data.to_csv('test_data.csv', index=False)"
   ]
  },
  {
   "cell_type": "markdown",
   "id": "1e032673",
   "metadata": {},
   "source": [
    "Running the b model"
   ]
  },
  {
   "cell_type": "code",
   "execution_count": null,
   "id": "0abe232e",
   "metadata": {},
   "outputs": [
    {
     "name": "stdout",
     "output_type": "stream",
     "text": [
      "Epoch 1/5\n",
      "20/20 [==============================] - 51s 2s/step - loss: 0.6940 - accuracy: 0.4930 - val_loss: 0.7005 - val_accuracy: 0.4500\n",
      "Epoch 2/5\n",
      "20/20 [==============================] - 73s 4s/step - loss: 0.6939 - accuracy: 0.5117 - val_loss: 0.6945 - val_accuracy: 0.4531\n",
      "Epoch 3/5\n",
      "15/20 [=====================>........] - ETA: 17s - loss: 0.6935 - accuracy: 0.4781"
     ]
    }
   ],
   "source": [
    "# Load the training data\n",
    "train_data = pd.read_csv('train_data.csv')\n",
    "\n",
    "# Extract the content and sentiment columns\n",
    "content = train_data['Content'].tolist()\n",
    "sentiment = train_data['Sentiment'].tolist()\n",
    "\n",
    "# Split the data into training and validation sets\n",
    "X_train, X_val, y_train, y_val = train_test_split(content, sentiment, test_size=0.2, random_state=42)\n",
    "\n",
    "# Tokenize the text data\n",
    "tokenizer = Tokenizer()\n",
    "tokenizer.fit_on_texts(X_train)\n",
    "\n",
    "# Convert text to sequences\n",
    "X_train_sequences = tokenizer.texts_to_sequences(X_train)\n",
    "X_val_sequences = tokenizer.texts_to_sequences(X_val)\n",
    "\n",
    "# Pad sequences to have consistent length\n",
    "max_sequence_length = max(max(len(seq) for seq in X_train_sequences), max(len(seq) for seq in X_val_sequences))\n",
    "X_train_padded = pad_sequences(X_train_sequences, maxlen=max_sequence_length, padding='post')\n",
    "X_val_padded = pad_sequences(X_val_sequences, maxlen=max_sequence_length, padding='post')\n",
    "\n",
    "# Convert sentiment labels to numeric\n",
    "sentiment_mapping = {'pos': 1, 'neg': 0}\n",
    "y_train_numeric = np.array([sentiment_mapping[sent] for sent in y_train])\n",
    "y_val_numeric = np.array([sentiment_mapping[sent] for sent in y_val])\n",
    "\n",
    "# Build the RNN model\n",
    "model = Sequential()\n",
    "model.add(Embedding(len(tokenizer.word_index) + 1, 100, input_length=max_sequence_length))\n",
    "model.add(LSTM(128))\n",
    "model.add(Dense(1, activation='sigmoid'))\n",
    "\n",
    "# Compile the model\n",
    "model.compile(optimizer='adam', loss='binary_crossentropy', metrics=['accuracy'])\n",
    "\n",
    "# Train the model\n",
    "model.fit(X_train_padded, y_train_numeric, validation_data=(X_val_padded, y_val_numeric), epochs=5, batch_size=64)"
   ]
  },
  {
   "cell_type": "code",
   "execution_count": null,
   "id": "8e9055cd",
   "metadata": {},
   "outputs": [],
   "source": [
    "# Load the test data\n",
    "test_data = pd.read_csv('test_data.csv')\n",
    "\n",
    "# Extract the content and sentiment columns\n",
    "content_test = test_data['Content'].tolist()\n",
    "sentiment_test = test_data['Sentiment'].tolist()\n",
    "\n",
    "# Tokenize the test data\n",
    "test_sequences = tokenizer.texts_to_sequences(content_test)\n",
    "\n",
    "# Pad sequences\n",
    "test_sequences_padded = pad_sequences(test_sequences, maxlen=max_sequence_length, padding='post')\n",
    "\n",
    "# Convert sentiment labels to numeric\n",
    "y_test_numeric = np.array([sentiment_mapping[sent] for sent in sentiment_test])\n",
    "\n",
    "# Evaluate the model on the test data\n",
    "loss, accuracy = model.evaluate(test_sequences_padded, y_test_numeric)\n",
    "print(\"Test Loss:\", loss)\n",
    "print(\"Test Accuracy:\", accuracy)"
   ]
  },
  {
   "cell_type": "code",
   "execution_count": null,
   "id": "f3cc522e",
   "metadata": {},
   "outputs": [],
   "source": []
  }
 ],
 "metadata": {
  "kernelspec": {
   "display_name": "Python 3 (ipykernel)",
   "language": "python",
   "name": "python3"
  },
  "language_info": {
   "codemirror_mode": {
    "name": "ipython",
    "version": 3
   },
   "file_extension": ".py",
   "mimetype": "text/x-python",
   "name": "python",
   "nbconvert_exporter": "python",
   "pygments_lexer": "ipython3",
   "version": "3.10.11"
  }
 },
 "nbformat": 4,
 "nbformat_minor": 5
}

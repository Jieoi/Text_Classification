{
 "cells": [
  {
   "cell_type": "markdown",
   "id": "04aefc8d",
   "metadata": {},
   "source": [
    "<center>\n",
    "    <b><h1> Couserwork Assignment: Text Classification</h1></b>\n",
    "</center>"
   ]
  },
  {
   "cell_type": "markdown",
   "id": "d4d3c79a",
   "metadata": {},
   "source": [
    "<center>\n",
    "    <h3>University of London</h3>\n",
    "</center>"
   ]
  },
  {
   "cell_type": "markdown",
   "id": "4850a4fc",
   "metadata": {},
   "source": [
    "<center>\n",
    "    <h3>BSc in Computer Science</h3>\n",
    "</center>"
   ]
  },
  {
   "cell_type": "markdown",
   "id": "41c3cb96",
   "metadata": {},
   "source": [
    "<center>\n",
    "    <h3>Natural Language Processing</h3>\n",
    "</center>"
   ]
  },
  {
   "cell_type": "markdown",
   "id": "c2fbe0bc",
   "metadata": {},
   "source": [
    "<div style=\"page-break-after: always;\"></div>"
   ]
  },
  {
   "cell_type": "markdown",
   "id": "36069138",
   "metadata": {},
   "source": [
    "<h1> Table of Content</h1>"
   ]
  },
  {
   "cell_type": "markdown",
   "id": "04b0acbe",
   "metadata": {},
   "source": [
    "<style>\n",
    "ul {\n",
    "    font-size: 20px;\n",
    "}\n",
    "\n",
    "ul ul {\n",
    "    font-size: 15px;\n",
    "}\n",
    "</style>\n",
    "\n",
    "<ul>\n",
    "    <li>\n",
    "        <a href=\"#intro\">1. Introduction</a>\n",
    "        <ul>\n",
    "            <li><a href=\"#1.1\">1.1 Problem Area</a></li>\n",
    "            <li><a href=\"#1.2\">1.2 Objectives</a></li>\n",
    "        </ul>\n",
    "    </li>\n",
    "    <li>\n",
    "        <a href=\"#section2\">Section 2</a>\n",
    "        <ul>\n",
    "            <li><a href=\"#subsection2.1\">Subsection 2.1</a></li>\n",
    "            <li><a href=\"#subsection2.2\">Subsection 2.2</a></li>\n",
    "        </ul>\n",
    "    </li>\n",
    "    <li>\n",
    "        <a href=\"#section3\">Section 3</a>\n",
    "        <ul>\n",
    "            <li><a href=\"#subsection3.1\">Subsection 3.1</a></li>\n",
    "            <li><a href=\"#subsection3.2\">Subsection 3.2</a></li>\n",
    "        </ul>\n",
    "    </li>\n",
    "</ul>\n"
   ]
  },
  {
   "cell_type": "markdown",
   "id": "e6f79f63",
   "metadata": {},
   "source": [
    "<div style=\"page-break-after: always;\"></div>"
   ]
  },
  {
   "cell_type": "markdown",
   "id": "b291f5f6",
   "metadata": {},
   "source": [
    "<h2 id=\"intro\">1. Introduction</h2>\n",
    "<h3 id=\"1.1\">1.1 Problem area</h3>"
   ]
  },
  {
   "cell_type": "code",
   "execution_count": null,
   "id": "a464044f",
   "metadata": {},
   "outputs": [],
   "source": []
  },
  {
   "cell_type": "markdown",
   "id": "b5846b2d",
   "metadata": {},
   "source": [
    "Loading the data into the dataframe"
   ]
  },
  {
   "cell_type": "code",
   "execution_count": 5,
   "id": "660ef232",
   "metadata": {},
   "outputs": [
    {
     "data": {
      "text/html": [
       "<div>\n",
       "<style scoped>\n",
       "    .dataframe tbody tr th:only-of-type {\n",
       "        vertical-align: middle;\n",
       "    }\n",
       "\n",
       "    .dataframe tbody tr th {\n",
       "        vertical-align: top;\n",
       "    }\n",
       "\n",
       "    .dataframe thead th {\n",
       "        text-align: right;\n",
       "    }\n",
       "</style>\n",
       "<table border=\"1\" class=\"dataframe\">\n",
       "  <thead>\n",
       "    <tr style=\"text-align: right;\">\n",
       "      <th></th>\n",
       "      <th>Sentiment</th>\n",
       "      <th>Unique ID</th>\n",
       "      <th>Rating</th>\n",
       "      <th>Content</th>\n",
       "    </tr>\n",
       "  </thead>\n",
       "  <tbody>\n",
       "    <tr>\n",
       "      <th>0</th>\n",
       "      <td>pos</td>\n",
       "      <td>3508</td>\n",
       "      <td>8</td>\n",
       "      <td>Incredibly intriguing and captivating, I found...</td>\n",
       "    </tr>\n",
       "    <tr>\n",
       "      <th>1</th>\n",
       "      <td>pos</td>\n",
       "      <td>3776</td>\n",
       "      <td>10</td>\n",
       "      <td>What can I say? I know this movie from start t...</td>\n",
       "    </tr>\n",
       "    <tr>\n",
       "      <th>2</th>\n",
       "      <td>pos</td>\n",
       "      <td>7255</td>\n",
       "      <td>9</td>\n",
       "      <td>This is not a movie you watch for entertainmen...</td>\n",
       "    </tr>\n",
       "    <tr>\n",
       "      <th>3</th>\n",
       "      <td>pos</td>\n",
       "      <td>2066</td>\n",
       "      <td>7</td>\n",
       "      <td>It's easy to forget, once later series had dev...</td>\n",
       "    </tr>\n",
       "    <tr>\n",
       "      <th>4</th>\n",
       "      <td>pos</td>\n",
       "      <td>1792</td>\n",
       "      <td>10</td>\n",
       "      <td>I had the pleasure of viewing this beautiful f...</td>\n",
       "    </tr>\n",
       "  </tbody>\n",
       "</table>\n",
       "</div>"
      ],
      "text/plain": [
       "  Sentiment Unique ID Rating   \n",
       "0       pos      3508      8  \\\n",
       "1       pos      3776     10   \n",
       "2       pos      7255      9   \n",
       "3       pos      2066      7   \n",
       "4       pos      1792     10   \n",
       "\n",
       "                                             Content  \n",
       "0  Incredibly intriguing and captivating, I found...  \n",
       "1  What can I say? I know this movie from start t...  \n",
       "2  This is not a movie you watch for entertainmen...  \n",
       "3  It's easy to forget, once later series had dev...  \n",
       "4  I had the pleasure of viewing this beautiful f...  "
      ]
     },
     "execution_count": 5,
     "metadata": {},
     "output_type": "execute_result"
    }
   ],
   "source": [
    "import os\n",
    "import random\n",
    "import pandas as pd\n",
    "\n",
    "# Path to the folders\n",
    "pos_folder = r'C:\\Users\\xjie\\Documents\\SIM\\Y3S2\\nlp\\aclImdb\\train\\pos'\n",
    "neg_folder = r'C:\\Users\\xjie\\Documents\\SIM\\Y3S2\\nlp\\aclImdb\\train\\neg'\n",
    "\n",
    "# Function to extract unique ID and rating from file name\n",
    "def extract_info(file_name):\n",
    "    id_rating = file_name.split('.')[0]\n",
    "    unique_id, rating = id_rating.split('_')\n",
    "    return int(unique_id), int(rating)\n",
    "\n",
    "# Initialize an empty DataFrame\n",
    "data = pd.DataFrame(columns=['Sentiment', 'Unique ID', 'Rating', 'Content'])\n",
    "\n",
    "# Process positive reviews\n",
    "pos_files = random.sample(os.listdir(pos_folder), 1000)\n",
    "for file_name in pos_files:\n",
    "    file_path = os.path.join(pos_folder, file_name)\n",
    "    with open(file_path, 'r', encoding='utf-8') as file:\n",
    "        content = file.read()\n",
    "    unique_id, rating = extract_info(file_name)\n",
    "    pos_data = pd.DataFrame({'Sentiment': ['pos'], 'Unique ID': [unique_id], 'Rating': [rating], 'Content': [content]})\n",
    "    data = pd.concat([data, pos_data], ignore_index=True)\n",
    "\n",
    "# Process negative reviews\n",
    "neg_files = random.sample(os.listdir(neg_folder), 1000)\n",
    "for file_name in neg_files:\n",
    "    file_path = os.path.join(neg_folder, file_name)\n",
    "    with open(file_path, 'r', encoding='utf-8') as file:\n",
    "        content = file.read()\n",
    "    unique_id, rating = extract_info(file_name)\n",
    "    neg_data = pd.DataFrame({'Sentiment': ['neg'], 'Unique ID': [unique_id], 'Rating': [rating], 'Content': [content]})\n",
    "    data = pd.concat([data, neg_data], ignore_index=True)\n",
    "\n",
    "# Print the resulting DataFrame\n",
    "data.head()"
   ]
  },
  {
   "cell_type": "code",
   "execution_count": null,
   "id": "d0f360d8",
   "metadata": {},
   "outputs": [],
   "source": []
  }
 ],
 "metadata": {
  "kernelspec": {
   "display_name": "Python 3 (ipykernel)",
   "language": "python",
   "name": "python3"
  },
  "language_info": {
   "codemirror_mode": {
    "name": "ipython",
    "version": 3
   },
   "file_extension": ".py",
   "mimetype": "text/x-python",
   "name": "python",
   "nbconvert_exporter": "python",
   "pygments_lexer": "ipython3",
   "version": "3.10.11"
  }
 },
 "nbformat": 4,
 "nbformat_minor": 5
}
